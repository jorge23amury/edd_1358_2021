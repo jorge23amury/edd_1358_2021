{
  "nbformat": 4,
  "nbformat_minor": 0,
  "metadata": {
    "colab": {
      "name": "14octubre_1358.ipynb",
      "provenance": [],
      "toc_visible": true,
      "authorship_tag": "ABX9TyPgk+OcsR+JKgPGD3+I1u02",
      "include_colab_link": true
    },
    "kernelspec": {
      "name": "python3",
      "display_name": "Python 3"
    }
  },
  "cells": [
    {
      "cell_type": "markdown",
      "metadata": {
        "id": "view-in-github",
        "colab_type": "text"
      },
      "source": [
        "<a href=\"https://colab.research.google.com/github/jorge23amury/edd_1358_2021/blob/master/14octubre_1358.ipynb\" target=\"_parent\"><img src=\"https://colab.research.google.com/assets/colab-badge.svg\" alt=\"Open In Colab\"/></a>"
      ]
    },
    {
      "cell_type": "code",
      "metadata": {
        "id": "VDX8IgY0pbCt"
      },
      "source": [
        "def calcular ( a , b , c):\n",
        "    x = a + (b / c)\n",
        "    return x\n",
        "print(calcular( 5 , 9 , 3))\n",
        "print(calcular( a = 5 ,b = 3 , c = 9))\n",
        "\n",
        "\n",
        "def calcular_v2( a = 10, b =20, c = 5):\n",
        "    x = a +(b / c)\n",
        "    return x\n",
        "print(calcular_v2())"
      ],
      "execution_count": null,
      "outputs": []
    },
    {
      "cell_type": "markdown",
      "metadata": {
        "id": "bdzdJNecryOz"
      },
      "source": [
        "# argumentos a funciones por tupla\n",
        "\n",
        "Se encian los argumentos en un conjunto de elementos dentro de una tupla."
      ]
    },
    {
      "cell_type": "code",
      "metadata": {
        "id": "R2Wpzx-Pr8aa"
      },
      "source": [
        "def calculo( *elem ):   #regresa una dupla*\n",
        "    print(elem)\n",
        "    x = elem[0] + ( elem[1] / elem[2])\n",
        "    return x\n",
        "print(calculo(5, 9, 3))"
      ],
      "execution_count": null,
      "outputs": []
    },
    {
      "cell_type": "markdown",
      "metadata": {
        "id": "UmUki3Tfswz8"
      },
      "source": [
        "# angumentos como diccionario **"
      ]
    },
    {
      "cell_type": "code",
      "metadata": {
        "id": "EZTiEKOOs3BP"
      },
      "source": [
        "def calculod( **elem ):\n",
        "    print(elem)\n",
        "    x = elem['a']+ (elem['b'] / elem['c'])\n",
        "    return x\n",
        "print(calculod(a = 5, b = 9, c = 3))"
      ],
      "execution_count": null,
      "outputs": []
    },
    {
      "cell_type": "markdown",
      "metadata": {
        "id": "Q4NeuMNJ2gEC"
      },
      "source": [
        "# archivos \n",
        "\n",
        "- abirlos\n",
        "       - un str con la ruta el archvi\n",
        "       - dos caracteres: 1 --> modo de apertura (r,w) y el 2 formato (texto o binario)\n",
        "- leerlos\n",
        "- modificarlos "
      ]
    },
    {
      "cell_type": "code",
      "metadata": {
        "id": "9LxlRz5Y3Lbt"
      },
      "source": [
        "archivo = open('ejemplo.txt', 'wt')\n",
        "archivo.write(\"Hola mundo de archivos\")\n",
        "\n",
        "archivo.close()"
      ],
      "execution_count": 12,
      "outputs": []
    },
    {
      "cell_type": "code",
      "metadata": {
        "id": "rzD44rNm4hoa"
      },
      "source": [
        "cat ejemplo.txt\n",
        "\n",
        "#(touch (j.txt))"
      ],
      "execution_count": null,
      "outputs": []
    }
  ]
}