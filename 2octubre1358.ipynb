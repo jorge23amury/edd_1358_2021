{
  "nbformat": 4,
  "nbformat_minor": 0,
  "metadata": {
    "colab": {
      "name": "2octubre1358.ipynb",
      "provenance": [],
      "collapsed_sections": [],
      "authorship_tag": "ABX9TyMCGGH6KtMCoBi3AJhZuj20",
      "include_colab_link": true
    },
    "kernelspec": {
      "name": "python3",
      "display_name": "Python 3"
    }
  },
  "cells": [
    {
      "cell_type": "markdown",
      "metadata": {
        "id": "view-in-github",
        "colab_type": "text"
      },
      "source": [
        "<a href=\"https://colab.research.google.com/github/jorge23amury/edd_1358_2021/blob/master/2octubre1358.ipynb\" target=\"_parent\"><img src=\"https://colab.research.google.com/assets/colab-badge.svg\" alt=\"Open In Colab\"/></a>"
      ]
    },
    {
      "cell_type": "markdown",
      "metadata": {
        "id": "3-huT7bR3RaT"
      },
      "source": [
        "# Tipo de dato\n",
        "- string              str\n",
        "- enteros             int\n",
        "- numero flotante     float\n",
        "- logico              bool\n",
        "- numero complejo     complex\n",
        "- listas              list\n",
        "- tuplas              tuple\n",
        "- diccionarios        dict\n",
        "- conjuntos           set"
      ]
    },
    {
      "cell_type": "code",
      "metadata": {
        "id": "3m9Vmbay33d9"
      },
      "source": [
        "# string puede emplear \"\" , ' ' , \"\" \"\"\n",
        "\n",
        "universidad = \"           universidad     nacional autonoma de mexico\"\n",
        "print (universidad)\n",
        "\n",
        "#cuando el string es una sola palabra se usa ' ' ->   buena práctica\n",
        "carrera = 'ico'\n",
        "area = \"software\"\n",
        "division = 'division de las ciencias fisicomatematicas'\n",
        "print(carrera, area, division)\n",
        "\n",
        "#\"\"\" cuando el string incluye varios renglones}\n",
        "frase = \"\"\" \n",
        "Si\n",
        "funciona, !!¡no\n",
        "lo arregles!¡¡\n",
        "\"\"\"\n",
        "print(frase)\n"
      ],
      "execution_count": null,
      "outputs": []
    },
    {
      "cell_type": "code",
      "metadata": {
        "id": "8jrKqe6C51E1",
        "outputId": "e866c638-55ab-4f4d-e73f-1986aa455e5a",
        "colab": {
          "base_uri": "https://localhost:8080/",
          "height": 218
        }
      },
      "source": [
        "#convierte a mayusculas\n",
        "print(universidad.upper())\n",
        "print(universidad)\n",
        "#titulo\n",
        "print(universidad.title())\n",
        "\n",
        "#eliminar espacios a al der e izq \\n\n",
        "universidad = universidad.strip()\n",
        "print(universidad)\n",
        "lista = universidad.split(\" \")\n",
        "print(lista)\n",
        "nueva = \"\"\n",
        "for l in lista:\n",
        "  if len(l) > 0:\n",
        "    nueva += l + \" \"\n",
        "print(nueva)\n",
        "\n",
        "numeros = \"1,2,3,34,56,100\"\n",
        "separados = numeros.split(\",\")\n",
        "print(separados)\n",
        "numeros_int = []\n",
        "for num in separados:\n",
        "  numeros_int.append( int(num) )\n",
        "\n",
        "print(numeros_int)\n",
        "print(nueva)\n",
        "print(nueva.index(\"na\"))\n",
        "print(nueva.replace(' ' , '-'))\n",
        "print(nueva)\n",
        "\n",
        "\n"
      ],
      "execution_count": 24,
      "outputs": [
        {
          "output_type": "stream",
          "text": [
            "UNIVERSIDAD     NACIONAL AUTONOMA DE MEXICO\n",
            "universidad     nacional autonoma de mexico\n",
            "Universidad     Nacional Autonoma De Mexico\n",
            "universidad     nacional autonoma de mexico\n",
            "['universidad', '', '', '', '', 'nacional', 'autonoma', 'de', 'mexico']\n",
            "universidad nacional autonoma de mexico \n",
            "['1', '2', '3', '34', '56', '100']\n",
            "[1, 2, 3, 34, 56, 100]\n",
            "universidad nacional autonoma de mexico \n",
            "0\n",
            "universidad-nacional-autonoma-de-mexico-\n",
            "universidad nacional autonoma de mexico \n"
          ],
          "name": "stdout"
        }
      ]
    },
    {
      "cell_type": "markdown",
      "metadata": {
        "id": "ctcYY0-q_cDz"
      },
      "source": [
        "# slicing - rebanada\n",
        "sintaxis \n",
        "[inicio : stop : incremento]\n",
        "*texto en cursiva*"
      ]
    },
    {
      "cell_type": "code",
      "metadata": {
        "id": "3t83sAu5_zXe"
      },
      "source": [
        "#selector de elementos dentro de un string\n",
        "print( nueva[0] )\n",
        "nueva = nueva.strip()\n",
        "print (nueva [len(nueva) -1])    #indexado negativo\n",
        "print(nueva[-2])\n",
        "\n",
        "print(nueva)\n",
        "\n",
        "# slicing\n",
        "print(nueva [12 : 20 : 1])\n",
        "#mexico al reves con slicing\n",
        "print(nueva [-1 : -7   : -1])\n",
        "\n",
        "#valores por defecto [0 : long de la lista : 1]\n",
        "print(nueva[0 : 4 : 1])\n",
        "\n"
      ],
      "execution_count": null,
      "outputs": []
    },
    {
      "cell_type": "markdown",
      "metadata": {
        "id": "hkgAxuujD-B8"
      },
      "source": [
        "# bool\n",
        "Acepta solo dos valores\n",
        "\n",
        "True bool(1)\n",
        "\n",
        "False bool(0)\n"
      ]
    },
    {
      "cell_type": "code",
      "metadata": {
        "id": "UoOp72oUELfH"
      },
      "source": [
        "print(bool(0))\n",
        "print(bool(1))\n",
        "flag = 0\n",
        "print(bool(flag))\n",
        "print(True)"
      ],
      "execution_count": null,
      "outputs": []
    },
    {
      "cell_type": "markdown",
      "metadata": {
        "id": "gMOuQ5D7FQfu"
      },
      "source": [
        "# comentarios\n",
        " \n",
        " para un comentario de una linea se usa # para un comentario de una sola linea, equivalente a /* */ de java se utiliza \"\"\""
      ]
    },
    {
      "cell_type": "code",
      "metadata": {
        "id": "e39QnXMjFeGA"
      },
      "source": [
        "#este es un comentario de linea simple\n",
        "\n",
        "\"\"\"\n",
        "Este \n",
        "es un\n",
        "comentario de \n",
        "multiple\n",
        "linea\n",
        "\"\"\""
      ],
      "execution_count": null,
      "outputs": []
    },
    {
      "cell_type": "markdown",
      "metadata": {
        "id": "PhXTA2qFFsMJ"
      },
      "source": [
        "# funcion Print\n",
        "hay 4 formas de usar print\n",
        "1. con comas (,)\n",
        "1. con signo +(+)\n",
        "1. con la funcion format() de la clase string\n",
        "1. con el operador f\"\n"
      ]
    },
    {
      "cell_type": "code",
      "metadata": {
        "id": "fQWittwUGJVj"
      },
      "source": [
        "#con comas\n",
        "cantidad = 2\n",
        "precio_chetos = 8\n",
        "precio_fanta = 12\n",
        "\n",
        "print(cantidad,precio_chetos,precio_fanta)\n",
        "\n",
        "#con signo solo opera con str\n",
        "print(\"hola\"+\"mundo\")\n",
        "print(cantidad + precio_chetos + precio_fanta)\n",
        "print(str(cantidad)+ str(precio_chetos)+str(precio_fanta))"
      ],
      "execution_count": null,
      "outputs": []
    }
  ]
}