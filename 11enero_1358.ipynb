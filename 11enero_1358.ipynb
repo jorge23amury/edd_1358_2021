{
  "nbformat": 4,
  "nbformat_minor": 0,
  "metadata": {
    "colab": {
      "name": "11enero_1358.ipynb",
      "provenance": [],
      "authorship_tag": "ABX9TyOgDwcSl7f1GiK2JBavCm5+",
      "include_colab_link": true
    },
    "kernelspec": {
      "name": "python3",
      "display_name": "Python 3"
    }
  },
  "cells": [
    {
      "cell_type": "markdown",
      "metadata": {
        "id": "view-in-github",
        "colab_type": "text"
      },
      "source": [
        "<a href=\"https://colab.research.google.com/github/jorge23amury/edd_1358_2021/blob/master/11enero_1358.ipynb\" target=\"_parent\"><img src=\"https://colab.research.google.com/assets/colab-badge.svg\" alt=\"Open In Colab\"/></a>"
      ]
    },
    {
      "cell_type": "code",
      "metadata": {
        "id": "P_N5a6FFOLi0"
      },
      "source": [
        "class NodoArbol:\r\n",
        "    def __init__(self, dato, hijo_izq = None, hijo_der = None):\r\n",
        "        self.dato = dato\r\n",
        "        self.hijo_izq = hijo_izq\r\n",
        "        self.hijo_der = hijo_der\r\n"
      ],
      "execution_count": 13,
      "outputs": []
    },
    {
      "cell_type": "code",
      "metadata": {
        "colab": {
          "base_uri": "https://localhost:8080/"
        },
        "id": "MADTFztRRQ8e",
        "outputId": "0d0117f3-b0f9-4192-fcfd-83626102b843"
      },
      "source": [
        "arbol = NodoArbol(\"R\")\r\n",
        "arbol.hijo_izq = NodoArbol(\"C\")\r\n",
        "arbol.hijo_der = NodoArbol(\"H\")\r\n",
        "\r\n",
        "#imprimir nodo raiz\r\n",
        "print(arbol.dato)\r\n",
        "\r\n",
        "#imprimir el hijo izq\r\n",
        "print(arbol.hijo_izq.dato)\r\n",
        "\r\n",
        "#imprimir hijo der\r\n",
        "print(arbol.hijo_der.dato)\r\n",
        "\r\n",
        "\r\n",
        "\r\n",
        "\r\n",
        "\r\n",
        "\r\n",
        "print(arbol.hijo_der.hijo_der)"
      ],
      "execution_count": 17,
      "outputs": [
        {
          "output_type": "stream",
          "text": [
            "R\n",
            "C\n",
            "H\n",
            "None\n"
          ],
          "name": "stdout"
        }
      ]
    },
    {
      "cell_type": "code",
      "metadata": {
        "colab": {
          "base_uri": "https://localhost:8080/"
        },
        "id": "sseW0wFdSw18",
        "outputId": "64f10b35-37a4-4188-c8bd-8584302abcd4"
      },
      "source": [
        "arbol_v2 = NodoArbol(\"R\", NodoArbol(\"C\"), NodoArbol(\"H\"))\r\n",
        "print(arbol_v2.dato)\r\n",
        "print(arbol_v2.hijo_der.dato)\r\n",
        "print(arbol_v2.hijo_izq.dato)"
      ],
      "execution_count": 20,
      "outputs": [
        {
          "output_type": "stream",
          "text": [
            "R\n",
            "H\n",
            "C\n"
          ],
          "name": "stdout"
        }
      ]
    },
    {
      "cell_type": "code",
      "metadata": {
        "colab": {
          "base_uri": "https://localhost:8080/"
        },
        "id": "ANLQJsLdTa3c",
        "outputId": "f468bd93-4b21-4903-8da5-4b1d5215f828"
      },
      "source": [
        "arbol2 = NodoArbol(4,NodoArbol(3, NodoArbol(2, NodoArbol(2))), NodoArbol(5))\r\n",
        "print(arbol2.hijo_izq.hijo_izq.hijo_izq.dato)\r\n",
        "\r\n",
        "aux = arbol2\r\n",
        "while aux.hijo_izq != None:\r\n",
        "    aux = aux.hijo_izq\r\n",
        "print(aux.dato)\r\n"
      ],
      "execution_count": 24,
      "outputs": [
        {
          "output_type": "stream",
          "text": [
            "2\n",
            "2\n"
          ],
          "name": "stdout"
        }
      ]
    },
    {
      "cell_type": "code",
      "metadata": {
        "colab": {
          "base_uri": "https://localhost:8080/"
        },
        "id": "rsBdEd1DaNBj",
        "outputId": "2992fc1f-66f6-4c7e-fad2-6301a8a59038"
      },
      "source": [
        "class NodoArbol2:\r\n",
        "    def __init__( self , dato , hijo_izq = None , hijo_cen = None, hijo_der= None ):\r\n",
        "        self.dato = dato\r\n",
        "        self.hijo_izq = hijo_izq\r\n",
        "        self.hijo_cen = hijo_cen\r\n",
        "        self.hijo_der = hijo_der\r\n",
        "\r\n",
        "arbol = NodoArbol2(\"R\",NodoArbol2(\"I\",None,NodoArbol2(\"x\"),None),NodoArbol2(\"C\",NodoArbol2(\"y\",None,None) ,None, None),\r\n",
        "                   NodoArbol2(\"D\",None, None, NodoArbol2(\"Z\")))\r\n",
        "\r\n",
        "aux = arbol\r\n",
        "while aux.hijo_izq != None:\r\n",
        "    aux = aux.hijo_izq\r\n",
        "print(aux.dato)\r\n"
      ],
      "execution_count": 32,
      "outputs": [
        {
          "output_type": "stream",
          "text": [
            "I\n"
          ],
          "name": "stdout"
        }
      ]
    },
    {
      "cell_type": "code",
      "metadata": {
        "id": "cptEm03Kcwn3"
      },
      "source": [
        "class Nodo_Arbol:\r\n",
        "    def __init__( self , dato , hijo_izq=None , hijo_central=None , hijo_der=None):\r\n",
        "        self.dato = dato\r\n",
        "        self.hijo_izq = hijo_izq\r\n",
        "        self.hijo_der = hijo_der\r\n",
        "        self.hijo_central=  hijo_central\r\n",
        "\r\n",
        "arbol3 = Nodo_Arbol(\"R\" , Nodo_Arbol(\"I\" , None , Nodo_Arbol(\"X\")) , Nodo_Arbol(\"C\" , Nodo_Arbol(\"Y\")) , Nodo_Arbol(\"D\" , None , None , Nodo_Arbol(\"Z\")))"
      ],
      "execution_count": 33,
      "outputs": []
    }
  ]
}