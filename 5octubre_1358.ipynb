{
  "nbformat": 4,
  "nbformat_minor": 0,
  "metadata": {
    "colab": {
      "name": "5octubre_1358.ipynb",
      "provenance": [],
      "collapsed_sections": [],
      "authorship_tag": "ABX9TyMADh+fsxN8fBCnpxXtDPeE",
      "include_colab_link": true
    },
    "kernelspec": {
      "name": "python3",
      "display_name": "Python 3"
    }
  },
  "cells": [
    {
      "cell_type": "markdown",
      "metadata": {
        "id": "view-in-github",
        "colab_type": "text"
      },
      "source": [
        "<a href=\"https://colab.research.google.com/github/jorge23amury/edd_1358_2021/blob/master/5octubre_1358.ipynb\" target=\"_parent\"><img src=\"https://colab.research.google.com/assets/colab-badge.svg\" alt=\"Open In Colab\"/></a>"
      ]
    },
    {
      "cell_type": "code",
      "metadata": {
        "id": "b_EiWQlxVXsb"
      },
      "source": [
        "precio = 12.5\n",
        "cantidad = 2\n",
        "existencia = True\n",
        "\n",
        "# precio de los chetos es 12.50 y quiero 2, hay? :True\n",
        "\n",
        "print( \"precio de los chetos son:\",precio, \"y quiero\", cantidad, \"hay?\", existencia)\n",
        "\n",
        "# format() de la clase str\n",
        "print(\"precio de los chetos es {0} y quiero {1}, hay? {2}\".format(precio,cantidad,existencia))\n",
        "print(\"precio de los chetos es {2} y quiero {1}, hay? {0}\".format(precio,cantidad,existencia))\n",
        "\n",
        "#operador f\"\"\n",
        "print(f\"precio de los chetos es {precio} y quiero {cantidad}, hay? {existencia}\")\n"
      ],
      "execution_count": null,
      "outputs": []
    },
    {
      "cell_type": "markdown",
      "metadata": {
        "id": "XuBCJbG6YMc6"
      },
      "source": [
        "# Listas\n",
        "declaracion []\n",
        "\n",
        "selector []\n",
        "\n",
        "mutable []\n",
        "# Tuplas\n",
        "declaracion ()\n",
        "\n",
        "\n",
        "selector[]\n",
        "\n",
        "NO mutable\n",
        "\n",
        "# Diccionarios\n",
        "conjuntos de datos en pares de llave: valor\n",
        "\n",
        "son mutables\n",
        "\n",
        "equivalentes a los objetos JSON\n",
        "# Conjuntos\n",
        "grupo de elementos con la teoria de conjuntos\n",
        "\n",
        "operaciones de conjuntos\n"
      ]
    },
    {
      "cell_type": "code",
      "metadata": {
        "id": "Ss6nMRxkZY3l"
      },
      "source": [
        "# Listas\n",
        "materias = [\"CyP\" , \"DAA\", \"EDD\", \"IS\", \"POO\"]\n",
        "print(materias)\n",
        "\n",
        "print( materias[2])\n",
        "print( materias[-1])\n",
        "print( materias[4])\n",
        "print(materias[ : : -1])\n",
        "\n",
        "#crear una lista a partir de un string\n",
        "fecha = \"05/octubre/2020\"\n",
        "lista_fecha = fecha.split(\"/\")\n",
        "print(lista_fecha)\n",
        "\n",
        "#crear un string a partir de una lista\n",
        "lista_hora = [\"15\" ,\"22\" ,\"45\"]\n",
        "hora = \":\".join(lista_hora)\n",
        "print(hora)\n",
        "\n",
        "print(\"--------------------------\")\n",
        "print(materias)\n",
        "print(lista_fecha)\n",
        "print(lista_hora)\n",
        "\n",
        "materias[0] = \"Computadoras y Programación\"\n",
        "print(materias)\n",
        "\n",
        "#agregar al final\n",
        "materias.append(\"Calidad\")\n",
        "print(materias)\n",
        "\n",
        "materias.insert(2, \"Emprendimiento\")\n",
        "print(materias)\n",
        "\n",
        "materia = materias.pop()\n",
        "print(materia)\n",
        "print(materias)\n",
        "\n",
        "materia = materias.pop(1)\n",
        "print(materia)\n",
        "print(materias)\n",
        "\n",
        "#vaciar lista\n",
        "materias.clear()\n",
        "print(materias)\n",
        "\n",
        "#Slicing\n",
        "print(\"S L I C I N G\")\n",
        "numeros = [0,1,2,3,4,5,6,7,8,9,10]\n",
        "print(numeros)\n",
        "print(numeros[4:9:1])\n",
        "\n",
        "# sustituir un segmento con Slicing [0,1,2,3,-2,9,10]\n",
        "numeros[4:9:1] = [\"a\", \"b\"]\n",
        "print(numeros)"
      ],
      "execution_count": null,
      "outputs": []
    },
    {
      "cell_type": "code",
      "metadata": {
        "id": "57-7QCcCiQId"
      },
      "source": [
        "autos = [\"Mazda\", \"honda\", \"Akura\", \"Ford\", \"VW\"]\n",
        "telefonos = [\"!phone\", \"Huawei\", \"Xiaomi\", \"Alcatel\", \"Alcatel\"]\n",
        "sistemas_operativos = [\"Windows\", \"Linux\", \"Android\", \"IOS\", \"MacOs\"]\n",
        "\n",
        "lista_2d = [autos,telefonos,sistemas_operativos]\n",
        "print (lista_2d)\n",
        "print (lista_2d[1][1])"
      ],
      "execution_count": null,
      "outputs": []
    }
  ]
}