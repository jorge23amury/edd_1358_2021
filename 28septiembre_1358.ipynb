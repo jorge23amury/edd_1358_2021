{
  "nbformat": 4,
  "nbformat_minor": 0,
  "metadata": {
    "colab": {
      "name": "28septiembre_1358.ipynb",
      "provenance": [],
      "collapsed_sections": [],
      "authorship_tag": "ABX9TyOw8GPQ3YjikkQDeITKMaRP",
      "include_colab_link": true
    },
    "kernelspec": {
      "name": "python3",
      "display_name": "Python 3"
    }
  },
  "cells": [
    {
      "cell_type": "markdown",
      "metadata": {
        "id": "view-in-github",
        "colab_type": "text"
      },
      "source": [
        "<a href=\"https://colab.research.google.com/github/jorge23amury/edd_1358_2021/blob/master/28septiembre_1358.ipynb\" target=\"_parent\"><img src=\"https://colab.research.google.com/assets/colab-badge.svg\" alt=\"Open In Colab\"/></a>"
      ]
    },
    {
      "cell_type": "code",
      "metadata": {
        "id": "mpsGQdWUXOFU",
        "outputId": "066675fb-6133-4c86-a8fc-f33767a0ffd8",
        "colab": {
          "base_uri": "https://localhost:8080/",
          "height": 50
        }
      },
      "source": [
        "print ('Hola colab research')\n",
        "nombre = \"Edd\"\n",
        "print(nombre)"
      ],
      "execution_count": null,
      "outputs": [
        {
          "output_type": "stream",
          "text": [
            "Hola colab research\n",
            "Edd\n"
          ],
          "name": "stdout"
        }
      ]
    },
    {
      "cell_type": "markdown",
      "metadata": {
        "id": "TKd1QJ4SZwPI"
      },
      "source": [
        "# Hola esto es un encabezado\n",
        "* elem 1\n",
        "* elem 2\n",
        "esto es un texto largo y quiero poner **negritas** y tambien quiero poner _Italica._\n",
        "[Ir a google] (https://www.google.com)\n",
        "\n"
      ]
    },
    {
      "cell_type": "code",
      "metadata": {
        "id": "R7Ju7QVecNBR"
      },
      "source": [
        "class Silla ():\n",
        "  def __init__(self):\n",
        "    self.material = \"\"\n",
        "    self.color = \"\"\n",
        "\n",
        "  def to_string( self ):\n",
        "     print(\" ------\")\n",
        "     print(f\"Material: { self.material} \" )\n",
        "     print(f\"{self.color}  ------\")"
      ],
      "execution_count": 23,
      "outputs": []
    },
    {
      "cell_type": "code",
      "metadata": {
        "id": "MFKsuS-UlL67",
        "outputId": "8e940e9e-73fd-4a12-973a-16cfd8ce29cb",
        "colab": {
          "base_uri": "https://localhost:8080/",
          "height": 67
        }
      },
      "source": [
        "obj = Silla()\n",
        "obj.material = \"Madera\"\n",
        "obj.color = \"Rojo\"\n",
        "obj.to_string()"
      ],
      "execution_count": 24,
      "outputs": [
        {
          "output_type": "stream",
          "text": [
            " ------\n",
            "Material: Madera \n",
            "Rojo  ------\n"
          ],
          "name": "stdout"
        }
      ]
    }
  ]
}