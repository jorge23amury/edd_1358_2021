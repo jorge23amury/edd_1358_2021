{
  "nbformat": 4,
  "nbformat_minor": 0,
  "metadata": {
    "colab": {
      "name": "19octubre_1358ipynb",
      "provenance": [],
      "authorship_tag": "ABX9TyMKLySpGPokEtouPNvhMFvY",
      "include_colab_link": true
    },
    "kernelspec": {
      "name": "python3",
      "display_name": "Python 3"
    }
  },
  "cells": [
    {
      "cell_type": "markdown",
      "metadata": {
        "id": "view-in-github",
        "colab_type": "text"
      },
      "source": [
        "<a href=\"https://colab.research.google.com/github/jorge23amury/edd_1358_2021/blob/master/19octubre_1358ipynb.ipynb\" target=\"_parent\"><img src=\"https://colab.research.google.com/assets/colab-badge.svg\" alt=\"Open In Colab\"/></a>"
      ]
    },
    {
      "cell_type": "code",
      "metadata": {
        "id": "f3uZprD4Z9UY"
      },
      "source": [
        "#read\n",
        "archivo = open('/content/sample_data/frutas.txt', 'rt')\n",
        "data = archivo.read()\n",
        "print(data)\n",
        "print(data.upper())\n",
        "\n",
        "archivo.close()\n"
      ],
      "execution_count": null,
      "outputs": []
    },
    {
      "cell_type": "code",
      "metadata": {
        "id": "_DUYtJ27cmPH"
      },
      "source": [
        "archivo = open('/content/sample_data/frutas.txt' , 'tr')\n",
        "print(archivo.readline())\n",
        "print(archivo.readline())\n",
        "print(archivo.readline())\n",
        "\n",
        "archivo.close()\n"
      ],
      "execution_count": null,
      "outputs": []
    },
    {
      "cell_type": "code",
      "metadata": {
        "id": "a418i0Utfmiu"
      },
      "source": [
        "archivo = open('/content/sample_data/frutas.txt' , 'tr')\n",
        "\n",
        "data = archivo.readline()\n",
        "while data != \"\":\n",
        "    print(data)\n",
        "    "
      ],
      "execution_count": null,
      "outputs": []
    },
    {
      "cell_type": "code",
      "metadata": {
        "id": "i2R4xg-BgDqu"
      },
      "source": [
        "#readlines()\n",
        "\n",
        "archivo = open('/content/sample_data/frutas.txt' , 'rt')\n",
        "\n",
        "data = archivo.readlines()\n",
        "\n",
        "\n",
        "print(data)\n",
        "\n",
        "frutas = []\n",
        "for linea in data:\n",
        "    frutas.append(linea.strip())\n",
        "\n",
        "frutas_final = []\n",
        "for elem in frutas:\n",
        "    for fruta in elem.split(','):\n",
        "        frutas_final.append(fruta.strip())\n",
        "\n",
        "\n",
        "\n",
        "\n",
        "\n",
        "\n",
        "print(frutas)\n",
        "print(frutas_final)\n",
        "archivo.close()"
      ],
      "execution_count": null,
      "outputs": []
    },
    {
      "cell_type": "markdown",
      "metadata": {
        "id": "im2fQlholIml"
      },
      "source": [
        "# POO con phyton\n",
        "- clase\n",
        "- objetos\n",
        "- atributos\n",
        "- metodos\n",
        "- metodo constructor\n",
        "- encapsulamiento (publico y privado)\n",
        "- herencia\n",
        "\n",
        "Declarar clases en phyton se usa la palabra reservada Class"
      ]
    },
    {
      "cell_type": "code",
      "metadata": {
        "id": "fn6LWueBgGKa"
      },
      "source": [
        "#Clase\n",
        "class Persona:\n",
        "\n",
        "#constructor\n",
        "    def __init__(self, edd, est):\n",
        "      #  print(\"Hola desde el constructor\")\n",
        "        self.__edad = edd   #<--- private \n",
        "        self.__estatura = est\n",
        "\n",
        "    def to_string( self):\n",
        "        #print(\"Nada que imprimir\")\n",
        "        print(f\"Edad={self.__edad}, est={self.__estatura}\")\n",
        "\n",
        "\n",
        "per1 = Persona(23,1.78)\n",
        "per1.to_string()\n",
        "per1.__estatura =10.4\n",
        "per1.to_string()\n",
        "\n",
        "\n"
      ],
      "execution_count": null,
      "outputs": []
    }
  ]
}