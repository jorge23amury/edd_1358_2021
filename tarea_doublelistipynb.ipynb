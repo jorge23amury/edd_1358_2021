{
  "nbformat": 4,
  "nbformat_minor": 0,
  "metadata": {
    "colab": {
      "name": "tarea_doublelistipynb",
      "provenance": [],
      "collapsed_sections": [],
      "authorship_tag": "ABX9TyNW1RuA3uzNAOEi0jJgTlPM",
      "include_colab_link": true
    },
    "kernelspec": {
      "name": "python3",
      "display_name": "Python 3"
    }
  },
  "cells": [
    {
      "cell_type": "markdown",
      "metadata": {
        "id": "view-in-github",
        "colab_type": "text"
      },
      "source": [
        "<a href=\"https://colab.research.google.com/github/jorge23amury/edd_1358_2021/blob/master/tarea_doublelistipynb.ipynb\" target=\"_parent\"><img src=\"https://colab.research.google.com/assets/colab-badge.svg\" alt=\"Open In Colab\"/></a>"
      ]
    },
    {
      "cell_type": "code",
      "metadata": {
        "id": "ntfvTQ1uMBFz"
      },
      "source": [
        "class NodoDoble:\n",
        "    def __init__(self, value, previo = None, siguiente = None):\n",
        "        self.data = value\n",
        "        self.previo = previo\n",
        "        self.next = siguiente\n",
        "\n",
        "class DoubleLinkedList:\n",
        "    def __init__(self):\n",
        "        self.__head = None\n",
        "        self.__tail = None\n",
        "        self.__size = 0\n",
        "\n",
        "    def get_size( self ):\n",
        "        return self.__size\n",
        "\n",
        "    def is_empty(self):\n",
        "        return self.__size == 0\n",
        "\n",
        "    def append(self, value):\n",
        "        if self.is_empty():\n",
        "            nuevo = NodoDoble(value)\n",
        "            self.__head = nuevo\n",
        "            self.__tail = nuevo\n",
        "\n",
        "        else:\n",
        "            nuevo = NodoDoble(value, self.__tail, None)\n",
        "            self.__tail.next = nuevo\n",
        "            self.__tail = nuevo\n",
        "\n",
        "        self.__size +=1\n",
        "\n",
        "    def transversal(self):\n",
        "        curr_node = self.__head\n",
        "        while curr_node != None:\n",
        "            print(\"<--\", curr_node.data, \"-->\" , end = \"\")\n",
        "            curr_node = curr_node.next\n",
        "        print(\"\")\n",
        "\n",
        "\n",
        "    def reverse_transversal(self):\n",
        "        curr_node = self.__tail\n",
        "        while curr_node != None:\n",
        "            print(\"<--\", curr_node.data, \"-->\" , end = \"\")\n",
        "            curr_node = curr_node.previo\n",
        "        print(\"\")\n",
        "\n",
        "\n",
        "    def remove_from_head(self, value):\n",
        "        if self.is_empty():\n",
        "            pass\n",
        "        else:\n",
        "            curr_node = self.__head\n",
        "            while curr_node.data != value and curr_node != None:\n",
        "                curr_node = curr_node.next\n",
        "            if curr_node.data == value:\n",
        "                curr_node.previo.next = curr_node.next\n",
        "                curr_node.next.previo = curr_node.previo\n",
        "\n",
        "        self.__size +=1\n",
        "\n",
        "\n",
        "\n",
        "    def remove_from_tail(self, value):\n",
        "        if self.is_empty():\n",
        "            pass\n",
        "        else:\n",
        "            curr_node = self.__tail\n",
        "            while curr_node.data != value and curr_node != None:\n",
        "                curr_node = curr_node.previo\n",
        "            if curr_node.data == value:\n",
        "                curr_node.previo.next = curr_node.next\n",
        "                curr_node.next.previo = curr_node.previo\n",
        "\n",
        "        self.__size +=1\n",
        "\n",
        "\n",
        "    def buscar_head(self, value):\n",
        "        curr_node = self.__head\n",
        "        while curr_node != None:\n",
        "            if curr_node.data == value:\n",
        "                print(value)\n",
        "            curr_node = curr_node.previo\n",
        "        print(\"\")\n",
        "\n",
        "\n",
        "    def buscar_tail(self, value):\n",
        "        curr_node = self.__tail\n",
        "        while curr_node != None:\n",
        "            if curr_node.data == value:\n",
        "                print(value)\n",
        "            curr_node = curr_node.previo\n",
        "        print(\"\")\n",
        "\n",
        "\n"
      ],
      "execution_count": 38,
      "outputs": []
    },
    {
      "cell_type": "code",
      "metadata": {
        "colab": {
          "base_uri": "https://localhost:8080/"
        },
        "id": "mPXZPh7VRkO2",
        "outputId": "4b9dcbb7-8c5a-4808-f3cd-562554ae9275"
      },
      "source": [
        "ldl = DoubleLinkedList()\n",
        "print(ldl.get_size())\n",
        "ldl.append( 10 )\n",
        "print(ldl.get_size())\n",
        "ldl.transversal()\n",
        "ldl.append( 20 )\n",
        "ldl.append( 30 )\n",
        "ldl.transversal()\n",
        "ldl.buscar_tail(10)\n",
        "\n",
        "\n"
      ],
      "execution_count": 39,
      "outputs": [
        {
          "output_type": "stream",
          "text": [
            "0\n",
            "1\n",
            "<-- 10 -->\n",
            "<-- 10 --><-- 20 --><-- 30 -->\n",
            "10\n",
            "\n"
          ],
          "name": "stdout"
        }
      ]
    }
  ]
}