{
  "nbformat": 4,
  "nbformat_minor": 0,
  "metadata": {
    "colab": {
      "name": "Tarea9_1358.ipynb",
      "provenance": [],
      "authorship_tag": "ABX9TyMsQvKFK6TRpI/Fnt01yCez",
      "include_colab_link": true
    },
    "kernelspec": {
      "name": "python3",
      "display_name": "Python 3"
    }
  },
  "cells": [
    {
      "cell_type": "markdown",
      "metadata": {
        "id": "view-in-github",
        "colab_type": "text"
      },
      "source": [
        "<a href=\"https://colab.research.google.com/github/jorge23amury/edd_1358_2021/blob/master/Tarea9_1358.ipynb\" target=\"_parent\"><img src=\"https://colab.research.google.com/assets/colab-badge.svg\" alt=\"Open In Colab\"/></a>"
      ]
    },
    {
      "cell_type": "code",
      "metadata": {
        "colab": {
          "base_uri": "https://localhost:8080/"
        },
        "id": "_W_7f97aICAC",
        "outputId": "8a16b391-021e-428c-e16d-b0d6293acf5e"
      },
      "source": [
        "print(\"tarea 2 eed\")"
      ],
      "execution_count": 1,
      "outputs": [
        {
          "output_type": "stream",
          "text": [
            "tarea 2 eed\n"
          ],
          "name": "stdout"
        }
      ]
    }
  ]
}