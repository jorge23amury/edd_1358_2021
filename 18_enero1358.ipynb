{
  "nbformat": 4,
  "nbformat_minor": 0,
  "metadata": {
    "colab": {
      "name": "18_enero1358.ipynb",
      "provenance": [],
      "authorship_tag": "ABX9TyMxp/qjrgTX9fkGgx2Piqsm",
      "include_colab_link": true
    },
    "kernelspec": {
      "name": "python3",
      "display_name": "Python 3"
    }
  },
  "cells": [
    {
      "cell_type": "markdown",
      "metadata": {
        "id": "view-in-github",
        "colab_type": "text"
      },
      "source": [
        "<a href=\"https://colab.research.google.com/github/jorge23amury/edd_1358_2021/blob/master/18_enero1358.ipynb\" target=\"_parent\"><img src=\"https://colab.research.google.com/assets/colab-badge.svg\" alt=\"Open In Colab\"/></a>"
      ]
    },
    {
      "cell_type": "code",
      "metadata": {
        "id": "uCHzU_hjR58B"
      },
      "source": [
        "class NodoArbol:\r\n",
        "    def __init__(self, value, left = None, rigth = None):\r\n",
        "        self.data = value\r\n",
        "        self.left = left\r\n",
        "        self.rigth = rigth\r\n",
        "\r\n",
        "        "
      ],
      "execution_count": 2,
      "outputs": []
    },
    {
      "cell_type": "code",
      "metadata": {
        "id": "FfVmfEm2Svqi"
      },
      "source": [
        "class ArbolBinarioBusqueda:\r\n",
        "    def __init__(self):\r\n",
        "        self.__root = None\r\n",
        "\r\n",
        "    def insert(self, value):\r\n",
        "        if self.__root == None:\r\n",
        "            self.__root = NodoArbol(value)\r\n",
        "\r\n",
        "        else:\r\n",
        "            self.__insert__( self.__root, value)\r\n",
        "\r\n",
        "    #__ = encapsulamiento\r\n",
        "    def __insert__( self, nodo, value):\r\n",
        "         #RECURSIVIDAD\r\n",
        "        if nodo.data == value:\r\n",
        "            print(\"El nodo ya existe, no se inserta el valor : \", value)\r\n",
        "\r\n",
        "        elif value < nodo.data:\r\n",
        "            #ir a la izq\r\n",
        "            if nodo.left == None:\r\n",
        "                nodo.left = NodoArbol(value, None, None)\r\n",
        "            else: \r\n",
        "                self.__insert__(nodo.left, value)\r\n",
        "        \r\n",
        "        else:\r\n",
        "            #ir a la derecha\r\n",
        "            if nodo.rigth == None:\r\n",
        "                nodo.rigth = NodoArbol(value, None, None)\r\n",
        "            else: \r\n",
        "                self.__insert__(nodo.rigth, value)\r\n",
        "\r\n",
        "                                  \r\n",
        "\r\n"
      ],
      "execution_count": 17,
      "outputs": []
    },
    {
      "cell_type": "code",
      "metadata": {
        "colab": {
          "base_uri": "https://localhost:8080/"
        },
        "id": "If6RATVydK-v",
        "outputId": "712ebba8-0cfc-47d3-eaa3-e04abaaf5a58"
      },
      "source": [
        "abb = ArbolBinarioBusqueda()\r\n",
        "abb.insert(40)\r\n",
        "abb.insert(40)\r\n",
        "abb.insert(30)\r\n",
        "abb.insert(30)\r\n",
        "abb.insert(50)\r\n",
        "abb.insert(50)\r\n"
      ],
      "execution_count": 20,
      "outputs": [
        {
          "output_type": "stream",
          "text": [
            "El nodo ya existe, no se inserta el valor :  40\n",
            "El nodo ya existe, no se inserta el valor :  30\n",
            "El nodo ya existe, no se inserta el valor :  50\n"
          ],
          "name": "stdout"
        }
      ]
    }
  ]
}