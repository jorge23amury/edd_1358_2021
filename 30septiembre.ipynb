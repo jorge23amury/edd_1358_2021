{
  "nbformat": 4,
  "nbformat_minor": 0,
  "metadata": {
    "colab": {
      "name": "30septiembre.ipynb",
      "provenance": [],
      "collapsed_sections": [],
      "authorship_tag": "ABX9TyMCAgT78vJ9/41stKOuHZj3",
      "include_colab_link": true
    },
    "kernelspec": {
      "name": "python3",
      "display_name": "Python 3"
    }
  },
  "cells": [
    {
      "cell_type": "markdown",
      "metadata": {
        "id": "view-in-github",
        "colab_type": "text"
      },
      "source": [
        "<a href=\"https://colab.research.google.com/github/jorge23amury/edd_1358_2021/blob/master/30septiembre.ipynb\" target=\"_parent\"><img src=\"https://colab.research.google.com/assets/colab-badge.svg\" alt=\"Open In Colab\"/></a>"
      ]
    },
    {
      "cell_type": "code",
      "metadata": {
        "id": "ESI3O6G5ssRj"
      },
      "source": [
        "## Fundamentos"
      ],
      "execution_count": null,
      "outputs": []
    },
    {
      "cell_type": "markdown",
      "metadata": {
        "id": "XNv2t1shs1ZT"
      },
      "source": [
        "## Fundamentos Python 3\n",
        "### Tipos de datos basicos\n",
        "edad= 13\n",
        "nombre = \"Jose\"\n",
        "estatura = 1.67\n",
        "tiene_ine= True\n",
        "\n",
        "### compuestros\n",
        "\n",
        "#### Listas\n",
        "son mutables\n",
        "se accedea los elementos via el indice\n",
        "los elementos puedes ser de diferente tipo\n",
        "lista_ejemplo = [\"manzana\" , 1.57 , True, [ \"rojo\" , \"azul\" ]]\n",
        "\n",
        "#### Tuplas\n",
        "son inmutables\n",
        "se accedea los elementos via el indice\n",
        "los elementos puedes ser de diferente tipo\n",
        "tupla_ejemplo = ( \"root\" , \"123.322.45.4\" , \"1234dios\"\n",
        "\n",
        "#### Diccionarios\n",
        "son equivalentes a los JSON de JE.\n",
        "\n",
        "#### Seta\n",
        "son datos agrupados"
      ]
    },
    {
      "cell_type": "code",
      "metadata": {
        "id": "ir23VeVbuGKv"
      },
      "source": [
        "lista_ejemplo = [\"manzana\" , 1.57 , True, [ \"rojo\" , \"azul\" ]]\n",
        "print(lista_ejemplo[1] )\n",
        "print(lista_ejemplo[3])\n",
        "print(lista_ejemplo[3][1] )\n",
        "lista_ejemplo[0] = \"Manzana\"\n",
        "print(lista_ejemplo)\n",
        "\n",
        "#agragar un elemento al final\n",
        "lista_ejemplo.append(\"!Phone\")\n",
        "print(lista_ejemplo)\n",
        "\n",
        "#sacar el ultimo elemento\n",
        "valor = lista_ejemplo.pop()\n",
        "print(valor)\n",
        "print(lista_ejemplo)\n",
        "\n",
        "#documentaciond el tipo de dato lista \n",
        "#dir(list)\n",
        "#help(list)\n",
        "\n",
        "print(\"---------------------------\")\n",
        "#print(help(valor))\n",
        "\n",
        "lista_ejemplo.insert(1 , \"Huawei\")\n",
        "print(lista_ejemplo)\n",
        "\n",
        "conteo = lista_ejemplo.count(\"Huawei\")\n",
        "print(conteo)\n",
        "\n",
        "colores = ['rosa' , 'fiusca' , 'negro']\n",
        "lista_ejemplo.append(colores)\n",
        "\n",
        "print(lista_ejemplo)\n",
        "\n",
        "#con extends fusionan dos listas\n",
        "lista_ejemplo.extend(colores)\n",
        "print(lista_ejemplo)\n"
      ],
      "execution_count": null,
      "outputs": []
    }
  ]
}