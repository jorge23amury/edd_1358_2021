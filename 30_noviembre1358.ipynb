{
  "nbformat": 4,
  "nbformat_minor": 0,
  "metadata": {
    "colab": {
      "name": "30_noviembre1358.ipynb",
      "provenance": [],
      "collapsed_sections": [],
      "authorship_tag": "ABX9TyMq1Za0Y2q7j0q/tP4B350T",
      "include_colab_link": true
    },
    "kernelspec": {
      "name": "python3",
      "display_name": "Python 3"
    }
  },
  "cells": [
    {
      "cell_type": "markdown",
      "metadata": {
        "id": "view-in-github",
        "colab_type": "text"
      },
      "source": [
        "<a href=\"https://colab.research.google.com/github/jorge23amury/edd_1358_2021/blob/master/30_noviembre1358.ipynb\" target=\"_parent\"><img src=\"https://colab.research.google.com/assets/colab-badge.svg\" alt=\"Open In Colab\"/></a>"
      ]
    },
    {
      "cell_type": "code",
      "metadata": {
        "id": "lbgnseKe-ega"
      },
      "source": [
        "\n",
        "class Stack:\n",
        "    def __init__(self):\n",
        "        self.__data = []\n",
        "        self.__size = 0\n",
        "\n",
        "    def pop(self):\n",
        "        return self.__data.pop()\n",
        "\n",
        "    def peek( self ):\n",
        "        return self.__data[-1]\n",
        "\n",
        "    def push(self, value):\n",
        "        self.__data.append(value)\n",
        "\n",
        "    def to_String(self):\n",
        "        print(\"-----\")\n",
        "        for dato in self.__data[::-1] :\n",
        "            print(f\" | { dato } |\")\n",
        "            print(\"-----\")"
      ],
      "execution_count": 16,
      "outputs": []
    },
    {
      "cell_type": "code",
      "metadata": {
        "colab": {
          "base_uri": "https://localhost:8080/"
        },
        "id": "Cgn1j-B9ADSm",
        "outputId": "1b5e4bd2-db78-4030-ab15-c0915a056fb0"
      },
      "source": [
        "pl = Stack()\n",
        "pl.push(34)\n",
        "pl.push(10)\n",
        "pl.push(45)\n",
        "pl.push(4)\n",
        "pl.push(23)\n",
        "pl.push(33)\n",
        "valor = pl.pop()\n",
        "print(valor * 2)\n",
        "pl.to_String()\n",
        "valor = pl.peek()\n",
        "print(valor * 2)\n",
        "pl.to_String()"
      ],
      "execution_count": 21,
      "outputs": [
        {
          "output_type": "stream",
          "text": [
            "66\n",
            "-----\n",
            " | 23 |\n",
            "-----\n",
            " | 4 |\n",
            "-----\n",
            " | 45 |\n",
            "-----\n",
            " | 10 |\n",
            "-----\n",
            " | 34 |\n",
            "-----\n",
            "46\n",
            "-----\n",
            " | 23 |\n",
            "-----\n",
            " | 4 |\n",
            "-----\n",
            " | 45 |\n",
            "-----\n",
            " | 10 |\n",
            "-----\n",
            " | 34 |\n",
            "-----\n"
          ],
          "name": "stdout"
        }
      ]
    },
    {
      "cell_type": "code",
      "metadata": {
        "colab": {
          "base_uri": "https://localhost:8080/"
        },
        "id": "7f4e3aO9B3g1",
        "outputId": "f8727cfb-07a6-47c1-8a84-3c840c9d5004"
      },
      "source": [
        "#aplicaciones de la estructura Stack\n",
        "#1.-Validación de parentesis balanceados '(' , ' {' y '['\n",
        "\n",
        "cadena = \"b= 3 * (5 + (4/2))\"\n",
        "pila = Stack()\n",
        "pila.push(\"#\")   #caracter de pila vacia\n",
        "for elem in cadena:\n",
        "    if elem =='(':\n",
        "        pila.push('*')\n",
        "    elif elem == ')':\n",
        "        pila.pop()\n",
        "    else:\n",
        "        pass\n",
        "\n",
        "if pila.peek() == '#':\n",
        "    print(\"La expresion esta balanceada en parentesis\")\n",
        "\n",
        "else:\n",
        "    print(\"La expresion no esta balanceada\")"
      ],
      "execution_count": 25,
      "outputs": [
        {
          "output_type": "stream",
          "text": [
            "La expresion esta balanceada en parentesis\n"
          ],
          "name": "stdout"
        }
      ]
    }
  ]
}