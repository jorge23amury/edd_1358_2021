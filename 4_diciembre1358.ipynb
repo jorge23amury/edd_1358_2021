{
  "nbformat": 4,
  "nbformat_minor": 0,
  "metadata": {
    "colab": {
      "name": "4_diciembre1358.ipynb",
      "provenance": [],
      "authorship_tag": "ABX9TyP4qrD+E6YmbfhEXC+5leXq",
      "include_colab_link": true
    },
    "kernelspec": {
      "name": "python3",
      "display_name": "Python 3"
    }
  },
  "cells": [
    {
      "cell_type": "markdown",
      "metadata": {
        "id": "view-in-github",
        "colab_type": "text"
      },
      "source": [
        "<a href=\"https://colab.research.google.com/github/jorge23amury/edd_1358_2021/blob/master/4_diciembre1358.ipynb\" target=\"_parent\"><img src=\"https://colab.research.google.com/assets/colab-badge.svg\" alt=\"Open In Colab\"/></a>"
      ]
    },
    {
      "cell_type": "code",
      "metadata": {
        "id": "cdT1kJoQkA7s"
      },
      "source": [
        "\"\"\"\n",
        "Array2D\n",
        "\"\"\"\n",
        "\n",
        "class Array2D:\n",
        "\n",
        "    def __init__(self,rows, cols, value):\n",
        "        self.__cols = cols\n",
        "        self.__rows = rows\n",
        "        self.__array=[[value for x in range(self.__cols)] for y in range(self.__rows)]\n",
        "\n",
        "    def to_string(self):\n",
        "        [print(\"---\",end=\"\") for x in range(self.__cols)]\n",
        "        print(\"\")\n",
        "        for ren in self.__array:\n",
        "            print(ren)\n",
        "        [print(\"---\",end=\"\") for x in range(self.__cols)]\n",
        "        print(\"\")\n",
        "\n",
        "    def get_num_rows(self):\n",
        "        return self.__rows\n",
        "\n",
        "    def get_num_cols(self):\n",
        "        return self.__cols\n",
        "\n",
        "    def get_item(self,row,col):\n",
        "        return self.__array[row][col]\n",
        "\n",
        "    def set_item( self , row , col , valor ):\n",
        "        self.__array[row][col]=valor\n",
        "\n",
        "    def clearing(self, valor=0):\n",
        "        for ren in range(self.__rows):\n",
        "            for col in range(self.__cols):\n",
        "                self.__array[ren][col]=valor"
      ],
      "execution_count": null,
      "outputs": []
    },
    {
      "cell_type": "code",
      "metadata": {
        "id": "yVNnawbGoEMs"
      },
      "source": [
        "class Stack:\n",
        "    def __init__(self):\n",
        "        self.__data = []\n",
        "        self.__size = 0\n",
        "\n",
        "    def pop(self):\n",
        "        return self.__data.pop()\n",
        "\n",
        "    def get_size(self):\n",
        "        return self.__size\n",
        "\n",
        "    def peak(self):\n",
        "        if len(self.__data) > 0:\n",
        "            return self.__data[-1]\n",
        "        else:\n",
        "            return None\n",
        "\n",
        "    def push(self,value):\n",
        "        self.__data.append(value)\n",
        "        self.__size += 1\n",
        "\n",
        "    def to_string(self):\n",
        "        print(\"-\"*6)\n",
        "        for dato in self.__data[::-1]:\n",
        "            print(f\"| {dato} |\")\n",
        "            print(\"/\" * 6)\n",
        "        print(\"\")\n"
      ],
      "execution_count": null,
      "outputs": []
    },
    {
      "cell_type": "code",
      "metadata": {
        "id": "Ej8694UhkcKq",
        "colab": {
          "base_uri": "https://localhost:8080/",
          "height": 128
        },
        "outputId": "87e8188d-e0a8-4459-b5f2-8cb36e058a08"
      },
      "source": [
        "class Laberinto_ADT:\n",
        "    def __init__(self, archivo):\n",
        "        self.__laberinto = Array2D(0, 0, 0)\n",
        "        self.__camino = Stack()\n",
        "        self.__rens = 0\n",
        "        self.__cols = 0\n",
        "        self.__entrada = (0, 0)\n",
        "        entrada = open(archivo, 'rt')\n",
        "        datos = entrada.readlines()\n",
        "        #print(datos)\n",
        "        self.__rens = int(datos.pop(0).strip())\n",
        "        self.__cols = int(datos.pop(0).strip())\n",
        "        self.__entrada = list(datos[0].strip().split(','))\n",
        "        self.__entrada[0] = int(self.__entrada[0])\n",
        "        self.__entrada[1] = int(self.__entrada[1])\n",
        "        self.__camino.push(tuple(self.__entrada[0]))\n",
        "\n",
        "\n",
        "        datos.pop(0)      #eleminamos la tupla\n",
        "        print(self.__rens, self.__cols, self.__entrada)\n",
        "        print(datos)\n",
        "\n",
        "        self.__laberinto = Array2D(self.__rens, self.__cols, '1')\n",
        "        for renglon in range(self.__rens):\n",
        "            info_ren = datos[renglon].strip().split(',')\n",
        "\n",
        "            for columna in range(self.__cols):\n",
        "                self.__laberinto.set_item(renglon, columna, info_ren[columna])\n",
        "\n",
        "        self.__laberinto.to_string()\n",
        "            \n",
        "    def resolver(self):\n",
        "        actual = self.__camino.peek()\n",
        "    \n",
        "    def otros():\n"
      ],
      "execution_count": null,
      "outputs": [
        {
          "output_type": "error",
          "ename": "SyntaxError",
          "evalue": "ignored",
          "traceback": [
            "\u001b[0;36m  File \u001b[0;32m\"<ipython-input-1-436d9b7d0e92>\"\u001b[0;36m, line \u001b[0;32m35\u001b[0m\n\u001b[0;31m    def otros():\u001b[0m\n\u001b[0m                ^\u001b[0m\n\u001b[0;31mSyntaxError\u001b[0m\u001b[0;31m:\u001b[0m unexpected EOF while parsing\n"
          ]
        }
      ]
    },
    {
      "cell_type": "code",
      "metadata": {
        "colab": {
          "base_uri": "https://localhost:8080/"
        },
        "id": "HAfBBZVZnWBi",
        "outputId": "9e6af311-d1a7-4762-c261-11e8201f7f9b"
      },
      "source": [
        "# main\n",
        "laberinto  = Laberinto_ADT(\"entrada.txt\")"
      ],
      "execution_count": null,
      "outputs": [
        {
          "output_type": "stream",
          "text": [
            "7 7 [6, 2]\n",
            "['1, 1, 1, 1, 1, 1, 1\\n', '1, 1, 1, 1, 1, 1, 1\\n', '1, 1, 1, 1, 1, 1, 1\\n', '1, 1, 1, 1, 1, 1, 1\\n', '1, 0, 0, 0, 0, 0, S\\n', '1, 1, 0, 1, 1, 1, 1\\n', '1, 1, E, 1, 1, 1, 1']\n",
            "---------------------\n",
            "['1', ' 1', ' 1', ' 1', ' 1', ' 1', ' 1']\n",
            "['1', ' 1', ' 1', ' 1', ' 1', ' 1', ' 1']\n",
            "['1', ' 1', ' 1', ' 1', ' 1', ' 1', ' 1']\n",
            "['1', ' 1', ' 1', ' 1', ' 1', ' 1', ' 1']\n",
            "['1', ' 0', ' 0', ' 0', ' 0', ' 0', ' S']\n",
            "['1', ' 1', ' 0', ' 1', ' 1', ' 1', ' 1']\n",
            "['1', ' 1', ' E', ' 1', ' 1', ' 1', ' 1']\n",
            "---------------------\n"
          ],
          "name": "stdout"
        }
      ]
    }
  ]
}