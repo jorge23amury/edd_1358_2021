{
  "nbformat": 4,
  "nbformat_minor": 0,
  "metadata": {
    "colab": {
      "name": "11noviembre_1358.ipynb",
      "provenance": [],
      "collapsed_sections": [],
      "authorship_tag": "ABX9TyMyEL72B1YFRRitNVffQt+8",
      "include_colab_link": true
    },
    "kernelspec": {
      "name": "python3",
      "display_name": "Python 3"
    }
  },
  "cells": [
    {
      "cell_type": "markdown",
      "metadata": {
        "id": "view-in-github",
        "colab_type": "text"
      },
      "source": [
        "<a href=\"https://colab.research.google.com/github/jorge23amury/edd_1358_2021/blob/master/11noviembre_1358.ipynb\" target=\"_parent\"><img src=\"https://colab.research.google.com/assets/colab-badge.svg\" alt=\"Open In Colab\"/></a>"
      ]
    },
    {
      "cell_type": "code",
      "metadata": {
        "id": "zdtQeYELo-ZR"
      },
      "source": [
        "class Nodo:\n",
        "    def __init__( self , dato ):\n",
        "        self.dato = dato\n",
        "        self.siguiente = None\n",
        "\n",
        "# ejemplo 1\n",
        "a = Nodo( 10 )\n",
        "print( a.dato )\n",
        "print( a.siguiente )\n",
        "\n",
        "# ejemplo 2\n",
        "a.siguiente = Nodo( 20 )\n",
        "\n",
        "#ejemplo 3\n",
        "\n",
        "a.siguiente.siguiente=Nodo(30)\n",
        "\n",
        "#Ejemplo 4\n",
        "a.siguiente.siguiente.siguiente=Nodo(40)\n",
        "\n",
        "#Ejemplo 5\n",
        "a.siguiente.siguiente.siguiente.siguiente=Nodo(50)\n",
        "\n",
        "\n",
        "# Recorrido transversal\n",
        "curr_node = a\n",
        "print(curr_node.dato , \"-->\" , end=\"\")\n",
        "while( curr_node.siguiente != None ):\n",
        "    curr_node = curr_node.siguiente\n",
        "    print(curr_node.dato, \"-->\" , end=\"\")\n",
        "print(\"\")\n",
        "\n",
        "#Como eliminar nodos \n",
        "#ejemplo 6\n",
        "\n",
        "a.siguiente.siguiente.siguiente.dato=45\n",
        "\n",
        "#ejemplo 7\n",
        "a.siguiente.siguiente.dato = 35\n",
        "\n",
        "#ejemplo 8\n",
        "\n",
        "a.siguiente.siguiente = a.siguiente.siguiente.siguiente \n",
        "\n",
        "#ejemplo 9\n",
        "\n",
        "a.siguiente = a.siguiente.siguiente.siguiente.siguiente"
      ],
      "execution_count": null,
      "outputs": []
    },
    {
      "cell_type": "code",
      "metadata": {
        "colab": {
          "base_uri": "https://localhost:8080/"
        },
        "id": "gLUtIZXqpW4n",
        "outputId": "3aae33e0-7e44-4429-f854-d16893c76bb7"
      },
      "source": [
        "# codigo del 18 de noviembre\n",
        "class Nodo:\n",
        "    def __init__( self , dato, siguiente = None):\n",
        "        self.dato = dato\n",
        "        self.siguiente = siguiente\n",
        "\n",
        "head = Nodo( 10, Nodo( 20, Nodo( 30, Nodo( 40, Nodo( 50 ) ) ) ) )\n",
        "\n",
        "#Recorrido transversal\n",
        "curr_node = head\n",
        "print(curr_node.dato , \"-->\" , end=\"\")\n",
        "while( curr_node.siguiente != None ):\n",
        "    curr_node = curr_node.siguiente\n",
        "    print(curr_node.dato, \"-->\" , end=\"\")\n",
        "print(\"\")\n",
        "\n",
        "\n",
        "# insertar el nodo 35 despues del 30\n",
        "anterior = head.siguiente.siguiente\n",
        "print(anterior.dato)\n",
        "nuevo = Nodo (35)\n",
        "nuevo.siguiente = anterior.siguiente\n",
        "print(nuevo.siguiente.dato)\n",
        "anterior.siguiente = nuevo\n",
        "\n",
        "\n",
        "# Recorrido transversal\n",
        "curr_node = head\n",
        "print(curr_node.dato , \"-->\" , end=\"\")\n",
        "while( curr_node.siguiente != None ):\n",
        "    curr_node = curr_node.siguiente\n",
        "    print(curr_node.dato, \"-->\" , end=\"\")\n",
        "print(\"\")\n",
        "\n",
        "#eliminar el nodo 20\n",
        "head.siguiente = head.siguiente.siguiente\n",
        "\n",
        "\n",
        "#Recorrido transversal\n",
        "curr_node = head\n",
        "print(curr_node.dato , \"-->\" , end=\"\")\n",
        "while( curr_node.siguiente != None ):\n",
        "    curr_node = curr_node.siguiente\n",
        "    print(curr_node.dato, \"-->\" , end=\"\")\n",
        "print(\"\")\n",
        "\n",
        "\n"
      ],
      "execution_count": null,
      "outputs": [
        {
          "output_type": "stream",
          "text": [
            "10 -->20 -->30 -->40 -->50 -->\n",
            "30\n",
            "40\n",
            "10 -->20 -->30 -->35 -->40 -->50 -->\n",
            "10 -->30 -->35 -->40 -->50 -->\n"
          ],
          "name": "stdout"
        }
      ]
    },
    {
      "cell_type": "code",
      "metadata": {
        "id": "RvI908YzO9N0"
      },
      "source": [
        "class Nodo:\n",
        "    def __init__( self , dato, siguiente = None):\n",
        "        self.dato = dato\n",
        "        self.siguiente = siguiente\n",
        "\n",
        "class LinkedList:\n",
        "    def __init__(self):\n",
        "        self.__head = None\n",
        "\n",
        "    def is_empty(self):\n",
        "        return self.__head == None \n",
        "\n",
        "    def tail (self):\n",
        "         curr_node = self.__head \n",
        "         while curr_node != None and curr_node.siguiente  != None:\n",
        "             curr_node =  curr_node.siguiente\n",
        "         return curr_node\n",
        "\n",
        "    def append(self, value):\n",
        "        nuevo = Nodo( value )\n",
        "        if self.__head == None:\n",
        "            self.__head = nuevo\n",
        "        else:\n",
        "            self.tail().siguiente = nuevo \n",
        "    \n",
        "    def transversal(self):\n",
        "        curr_node = self.__head\n",
        "        if curr_node == None:\n",
        "            print(\"La lista esta vacia\")\n",
        "        else:\n",
        "            while curr_node != None:\n",
        "                print(f\" { curr_node.dato} -->\", end = \"\" )\n",
        "                curr_node = curr_node.siguiente\n",
        "        print(\"\")\n",
        "    \n",
        "\n",
        "    def preppend(self, value):\n",
        "        nuevo = Nodo(value)\n",
        "        if self.__head == None:\n",
        "            self.__head == nuevo \n",
        "        else:\n",
        "            x = self.__head\n",
        "            self.__head = nuevo\n",
        "            nuevo.siguiente = x\n",
        "\n",
        "    \n"
      ],
      "execution_count": null,
      "outputs": []
    },
    {
      "cell_type": "code",
      "metadata": {
        "colab": {
          "base_uri": "https://localhost:8080/"
        },
        "id": "n9if044WKmir",
        "outputId": "08191855-2781-4234-aed2-7839908daac5"
      },
      "source": [
        "l = LinkedList() \n",
        "print(f\"l esta vacia?= {l.is_empty() }\")\n",
        "\n",
        "x = l.tail()\n",
        "print(x)\n",
        "l.append(10)\n",
        "l.append(20)\n",
        "l.append(30)\n",
        "l.append(40)\n",
        "\n",
        "l.transversal()\n",
        "\n",
        "l.preppend(5)\n",
        "l.transversal()"
      ],
      "execution_count": null,
      "outputs": [
        {
          "output_type": "stream",
          "text": [
            "l esta vacia?= True\n",
            "None\n",
            " 10 --> 20 --> 30 --> 40 -->\n",
            " 5 --> 10 --> 20 --> 30 --> 40 -->\n"
          ],
          "name": "stdout"
        }
      ]
    }
  ]
}