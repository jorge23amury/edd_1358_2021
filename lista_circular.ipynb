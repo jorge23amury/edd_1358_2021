{
  "nbformat": 4,
  "nbformat_minor": 0,
  "metadata": {
    "colab": {
      "name": "lista_circular.ipynb",
      "provenance": [],
      "collapsed_sections": [],
      "authorship_tag": "ABX9TyPcwaRyeL0QjjZurOPlLe5z",
      "include_colab_link": true
    },
    "kernelspec": {
      "name": "python3",
      "display_name": "Python 3"
    }
  },
  "cells": [
    {
      "cell_type": "markdown",
      "metadata": {
        "id": "view-in-github",
        "colab_type": "text"
      },
      "source": [
        "<a href=\"https://colab.research.google.com/github/jorge23amury/edd_1358_2021/blob/master/lista_circular.ipynb\" target=\"_parent\"><img src=\"https://colab.research.google.com/assets/colab-badge.svg\" alt=\"Open In Colab\"/></a>"
      ]
    },
    {
      "cell_type": "code",
      "metadata": {
        "id": "nnHJnpFQ4K_Q"
      },
      "source": [
        "class Nodo():\n",
        "\n",
        "    def __init__(self, value):\n",
        "        self.data = value\n",
        "        self.siguiente = None\n",
        "\n",
        "class CicularsList():\n",
        "    def __init__(self):\n",
        "        self.__primero = None\n",
        "        self.__ultimo = None\n",
        "        self.__size = 0\n",
        "\n",
        "    def get_size( self ):\n",
        "        return self.__size\n",
        "\n",
        "    def is_empty(self):\n",
        "        return self.__size == 0\n",
        "\n",
        "    def insert(self, value):\n",
        "        nuevo = Nodo( value )\n",
        "        if self.is_empty():\n",
        "            nuevo = Nodo(value)\n",
        "            self.__primero = nuevo\n",
        "            self.__ultimo = nuevo\n",
        "            \n",
        "        else:\n",
        "            if self.__ultimo.data > nuevo.data:\n",
        "                self.__primero = nuevo\n",
        "                self.__primero.siguiente = self.__ultimo\n",
        "\n",
        "            else:\n",
        "                self.__ultimo.siguiente = nuevo\n",
        "        self.__size +=1\n",
        "\n",
        "\n",
        "    def transversal(self):\n",
        "        curr_node = self.__primero\n",
        "        while curr_node != None:\n",
        "            print(\"<--\", curr_node.data, \"-->\" , end = \"\")\n",
        "            curr_node = curr_node.siguiente\n",
        "        print(\"\")\n",
        "\n",
        "\n",
        "    def remove(self,value):\n",
        "        if self.__primero != None:\n",
        "            if self.__primero.data == value:\n",
        "                self.__primero = self.__primero.siguiente\n",
        "                return None\n",
        "            \n",
        "            curr_node = self.__primero\n",
        "            while (curr_node.siguiente != None):\n",
        "                if curr_node.siguiente.data == value:\n",
        "                    curr_node.siguiente = curr_node.siguiente.siguiente\n",
        "                    break\n",
        "                curr_node = curr_node.siguiente\n",
        "\n",
        "    def buscar(self, value ):\n",
        "\n",
        "        curr_node = self.__primero\n",
        "        while curr_node != None:\n",
        "            if curr_node.siguiente.data == value:\n",
        "                return True\n",
        "            if value == curr_node.data:\n",
        "                \n",
        "                return True\n",
        "            else:\n",
        "                print (\"false\")\n",
        "                return None\n",
        "\n",
        "\n",
        "\n",
        "\n",
        "            curr_node = curr_node.siguiente\n",
        "\n",
        "\n",
        "\n",
        "\n",
        "        print(\"\")\n",
        "\n",
        "        \n"
      ],
      "execution_count": 315,
      "outputs": []
    },
    {
      "cell_type": "code",
      "metadata": {
        "colab": {
          "base_uri": "https://localhost:8080/"
        },
        "id": "YrjuHozV6gHU",
        "outputId": "751bcaba-9a6a-4730-b534-6dc3630af0e2"
      },
      "source": [
        "ldl = CicularsList()\n",
        "ldl.is_empty()\n",
        "ldl.insert(7)\n",
        "ldl.transversal()\n",
        "\n",
        "ldl.insert(1)\n",
        "ldl.transversal()\n",
        "ldl.insert(10)\n",
        "ldl.transversal()\n",
        "\n",
        "ldl.remove(7)\n",
        "ldl.transversal()\n",
        "ldl.buscar(1)\n",
        "ldl.insert(15)\n",
        "ldl.remove(10)\n",
        "ldl.transversal()"
      ],
      "execution_count": 344,
      "outputs": [
        {
          "output_type": "stream",
          "text": [
            "<-- 7 -->\n",
            "<-- 1 --><-- 7 -->\n",
            "<-- 1 --><-- 7 --><-- 10 -->\n",
            "<-- 1 --><-- 10 -->\n",
            "<-- 1 -->\n"
          ],
          "name": "stdout"
        }
      ]
    }
  ]
}