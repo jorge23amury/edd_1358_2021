{
  "nbformat": 4,
  "nbformat_minor": 0,
  "metadata": {
    "colab": {
      "name": "25_enero1358.ipynb",
      "provenance": [],
      "collapsed_sections": [],
      "authorship_tag": "ABX9TyNpbuE3y3QcsUxD2HKxByVv",
      "include_colab_link": true
    },
    "kernelspec": {
      "name": "python3",
      "display_name": "Python 3"
    }
  },
  "cells": [
    {
      "cell_type": "markdown",
      "metadata": {
        "id": "view-in-github",
        "colab_type": "text"
      },
      "source": [
        "<a href=\"https://colab.research.google.com/github/jorge23amury/edd_1358_2021/blob/master/25_enero1358.ipynb\" target=\"_parent\"><img src=\"https://colab.research.google.com/assets/colab-badge.svg\" alt=\"Open In Colab\"/></a>"
      ]
    },
    {
      "cell_type": "code",
      "metadata": {
        "id": "uCHzU_hjR58B"
      },
      "source": [
        "class NodoArbol:\r\n",
        "    def __init__(self, value, left = None, rigth = None):\r\n",
        "        self.data = value\r\n",
        "        self.left = left\r\n",
        "        self.rigth = rigth"
      ],
      "execution_count": 3,
      "outputs": []
    },
    {
      "cell_type": "code",
      "metadata": {
        "id": "FfVmfEm2Svqi"
      },
      "source": [
        "class ArbolBinarioBusqueda:\r\n",
        "    def __init__(self):\r\n",
        "        self.__root = None\r\n",
        "\r\n",
        "    def insert(self, value):\r\n",
        "        if self.__root == None:\r\n",
        "            self.__root = NodoArbol(value)\r\n",
        "\r\n",
        "        else:\r\n",
        "            self.__insert__( self.__root, value)\r\n",
        "\r\n",
        "    #__ = encapsulamiento\r\n",
        "    def __insert__( self, nodo, value):\r\n",
        "         #RECURSIVIDAD\r\n",
        "        if nodo.data == value:\r\n",
        "            print(\"El nodo ya existe, no se inserta el valor : \", value)\r\n",
        "\r\n",
        "        elif value < nodo.data:\r\n",
        "            #ir a la izq\r\n",
        "            if nodo.left == None:\r\n",
        "                nodo.left = NodoArbol(value, None, None)\r\n",
        "            else: \r\n",
        "                self.__insert__(nodo.left, value)\r\n",
        "        \r\n",
        "        else:\r\n",
        "            #ir a la derecha\r\n",
        "            if nodo.rigth == None:\r\n",
        "                nodo.rigth = NodoArbol(value, None, None)\r\n",
        "            else: \r\n",
        "                self.__insert__(nodo.rigth, value)\r\n",
        "\r\n",
        "    def transversal(self, format = \"inorden\"):\r\n",
        "        if format == 'inorden':\r\n",
        "            self.__recorrido_in(self.__root)\r\n",
        "\r\n",
        "        elif format == 'preorden' :\r\n",
        "            self.__recorrido_pre(self.__root)\r\n",
        "\r\n",
        "        elif format == 'posorden':\r\n",
        "            self.__recorrido_pos(self.__root)\r\n",
        "\r\n",
        "        else:\r\n",
        "            print(\"Formato de recorrido no valido\")\r\n",
        "    \r\n",
        "    def __recorrido_pre(self, nodo):\r\n",
        "        if nodo != None:\r\n",
        "            print(nodo.data, end=',')\r\n",
        "            self.__recorrido_pre(nodo.left)\r\n",
        "            self.__recorrido_pre(nodo.rigth)\r\n",
        "\r\n",
        "\r\n",
        "    def __recorrido_in(self, nodo):\r\n",
        "        if nodo != None:\r\n",
        "            self.__recorrido_in(nodo.left)\r\n",
        "            print(nodo.data, end=',') #raiz\r\n",
        "            self.__recorrido_in(nodo.rigth)\r\n",
        "\r\n",
        "    def __recorrido_pos(self, nodo):\r\n",
        "        if nodo != None:\r\n",
        "            self.__recorrido_pos(nodo.left)\r\n",
        "            self.__recorrido_pos(nodo.rigth)\r\n",
        "            print(nodo.data, end =',')\r\n",
        "\r\n",
        "\r\n",
        "    def search(self, value):\r\n",
        "        if self.__root == None:\r\n",
        "            print(\"'ARBOL VACIO'\")\r\n",
        "        else:\r\n",
        "            return self.__search(self.__root, value)\r\n",
        "\r\n",
        "    def __search(self, nodo, value):\r\n",
        "        if nodo == None:\r\n",
        "            return None\r\n",
        "        elif nodo.data == value:\r\n",
        "            return nodo.data\r\n",
        "        elif value < nodo.data:\r\n",
        "            return self.__search(nodo.left, value)\r\n",
        "        else:\r\n",
        "            return  self.__search(nodo.rigth, value)\r\n",
        "\r\n",
        "    def remove(self, value):\r\n",
        "        if self.__root == None:\r\n",
        "            print(\"ARBOL VACIO\")\r\n",
        "        else:\r\n",
        "            self.__remove(None, None, self.__root, value)\r\n",
        "\r\n",
        "\r\n",
        "    def __remove(self, padre_hi, padre_hd, actual, value):\r\n",
        "        if actual == None:\r\n",
        "            print(\"'CASO BASE'\")\r\n",
        "            return None\r\n",
        "\r\n",
        "        elif actual.data == value:\r\n",
        "            print(\"\\n'ENCONTRADO'\", actual.data)\r\n",
        "\r\n",
        "            #CASO 1 --> es nodo hoja\r\n",
        "            if actual.left == None and actual.rigth == None:\r\n",
        "                if padre_hi != None:\r\n",
        "                    padre_hi.left = None\r\n",
        "                else:\r\n",
        "                    padre_hd.rigth = None\r\n",
        "\r\n",
        "            #CASO 2 --> tiene 1 hijo\r\n",
        "            elif ( actual.left != None and actual.rigth == None) or (actual.left == None and actual.rigth != None):\r\n",
        "                if actual.left != None:\r\n",
        "                    aux = actual.left\r\n",
        "                    actual.left = None\r\n",
        "                    actual = aux\r\n",
        "                else:\r\n",
        "                    print(\"Hijo a la derecha\", actual.rigth.data)\r\n",
        "                    aux = actual.rigth\r\n",
        "                    actual.rigth = None\r\n",
        "                    actual = aux\r\n",
        "\r\n",
        "\r\n",
        "            #CASO 3 --> tiene 2 hijos\r\n",
        "\r\n",
        "        elif value < actual.data:\r\n",
        "            self.__remove(actual, None, actual.left, value)\r\n",
        "        else:\r\n",
        "            self.__remove(actual, None, actual.rigth, value)\r\n"
      ],
      "execution_count": 40,
      "outputs": []
    },
    {
      "cell_type": "code",
      "metadata": {
        "colab": {
          "base_uri": "https://localhost:8080/"
        },
        "id": "If6RATVydK-v",
        "outputId": "2b9aeb8d-ba2c-49ff-8270-af5bbc0ec3a7"
      },
      "source": [
        "abb = ArbolBinarioBusqueda()\r\n",
        "abb.insert( 50 )\r\n",
        "abb.insert( 30 )\r\n",
        "abb.insert( 60 )\r\n",
        "abb.insert( 35 )\r\n",
        "abb.insert( 89 )\r\n",
        "abb.insert( 55 )\r\n",
        "abb.insert( 1 )\r\n",
        "abb.insert( 33 )\r\n",
        "abb.insert( 80 )\r\n",
        "abb.insert( 100 )\r\n",
        "abb.insert( 57 )\r\n",
        "abb.transversal()\r\n",
        "abb.remove(55)\r\n",
        "abb.transversal()\r\n"
      ],
      "execution_count": 39,
      "outputs": [
        {
          "output_type": "stream",
          "text": [
            "1,30,33,35,50,55,57,60,80,89,100,\n",
            "'ENCONTRADO' 55\n",
            "Hijo a la derecha 57\n",
            "1,30,33,35,50,55,60,80,89,100,"
          ],
          "name": "stdout"
        }
      ]
    },
    {
      "cell_type": "code",
      "metadata": {
        "id": "gdIzE8xUD9fE"
      },
      "source": [
        ""
      ],
      "execution_count": null,
      "outputs": []
    }
  ]
}