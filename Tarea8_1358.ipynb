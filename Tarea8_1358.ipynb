{
  "nbformat": 4,
  "nbformat_minor": 0,
  "metadata": {
    "colab": {
      "name": "Tarea8_1358.ipynb",
      "provenance": [],
      "authorship_tag": "ABX9TyNG74dbEvIDPrcWDTTLVhfB",
      "include_colab_link": true
    },
    "kernelspec": {
      "name": "python3",
      "display_name": "Python 3"
    }
  },
  "cells": [
    {
      "cell_type": "markdown",
      "metadata": {
        "id": "view-in-github",
        "colab_type": "text"
      },
      "source": [
        "<a href=\"https://colab.research.google.com/github/jorge23amury/edd_1358_2021/blob/master/Tarea8_1358.ipynb\" target=\"_parent\"><img src=\"https://colab.research.google.com/assets/colab-badge.svg\" alt=\"Open In Colab\"/></a>"
      ]
    },
    {
      "cell_type": "code",
      "metadata": {
        "id": "RvaRCU4z4AhO"
      },
      "source": [
        "class PriorityQueue:\r\n",
        "\tdef __init__(self):\r\n",
        "\t\tself.__data = [[]]\r\n",
        "\t\tself.__size = 0\r\n",
        "\r\n",
        "\tdef is_empty(self):\r\n",
        "\t\treturn len(self.__data) == 0\r\n",
        "\r\n",
        "\tdef length(self):\r\n",
        "\t\treturn len(self.__data)\r\n",
        "  \r\n",
        "  \r\n",
        "\tdef enqueue(self,prioridad , elem):\r\n",
        "\t\tif (type(prioridad) is not int) or (prioridad < 0) :\r\n",
        "\t\t\tprint(\"Lista sin 'elementos'\")\r\n",
        "\t\telse:\r\n",
        "\t\t\tif prioridad > len(self.__data):\r\n",
        "\t\t\t\tfor i in range(prioridad - len(self.__data)+1):\r\n",
        "\t\t\t\t\tself.__data.append([])\r\n",
        "\t\t\tself.__data[prioridad].append(elem)\r\n",
        "\t\t\tself.__size += 1\r\n",
        "\r\n",
        "\r\n",
        "\tdef dequeue(self):\r\n",
        "\t\tfor i in self.__data:\r\n",
        "\t\t\tif len(i) > 0:\r\n",
        "\t\t\t\tself.__size -= 1\r\n",
        "\t\t\t\treturn i.pop(0)\r\n",
        "\r\n",
        "\tdef to_string(self):\r\n",
        "\t\tdatos = 0\r\n",
        "\t\tfor i in self.__data:\r\n",
        "\t\t\tfor j in i:\r\n",
        "\t\t\t\tif datos == 0:\r\n",
        "\t\t\t\t\tprint(f'|{j}| <- maxima prioridad')\r\n",
        "\t\t\t\telif datos == self.__size-1:\r\n",
        "\t\t\t\t\tprint(f'|{j}| <- minima prioridad')\r\n",
        "\t\t\t\telse:\r\n",
        "\t\t\t\t\tprint(f'|{j}|')\r\n",
        "\t\t\t\tdatos += 1\r\n",
        "\r\n",
        "\t\t"
      ],
      "execution_count": 284,
      "outputs": []
    },
    {
      "cell_type": "code",
      "metadata": {
        "colab": {
          "base_uri": "https://localhost:8080/"
        },
        "id": "rVZJ40Qz4Vjr",
        "outputId": "31532093-6333-426c-d2dc-f18887e5f6dc"
      },
      "source": [
        "zoo = PriorityQueue()\r\n",
        "zoo.enqueue(3,'Hombre')\r\n",
        "zoo.enqueue(2,'Niños')\r\n",
        "zoo.enqueue(3,'Mujeres')\r\n",
        "zoo.enqueue(0,'bebés')\r\n",
        "zoo.to_string()\r\n",
        "print(\"\\n\")\r\n",
        "siguiente = zoo.dequeue()\r\n",
        "print(siguiente + \"\\n\")\r\n",
        "zoo.to_string()\r\n"
      ],
      "execution_count": 285,
      "outputs": [
        {
          "output_type": "stream",
          "text": [
            "|bebés| <- maxima prioridad\n",
            "|Niños|\n",
            "|Hombre|\n",
            "|Mujeres| <- minima prioridad\n",
            "\n",
            "\n",
            "bebés\n",
            "\n",
            "|Niños| <- maxima prioridad\n",
            "|Hombre|\n",
            "|Mujeres| <- minima prioridad\n"
          ],
          "name": "stdout"
        }
      ]
    }
  ]
}