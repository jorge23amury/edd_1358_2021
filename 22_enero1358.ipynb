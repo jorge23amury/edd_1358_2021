{
  "nbformat": 4,
  "nbformat_minor": 0,
  "metadata": {
    "colab": {
      "name": "22_enero1358.ipynb",
      "provenance": [],
      "collapsed_sections": [],
      "authorship_tag": "ABX9TyO4F4L6o25Gih+jqFMSDdLB",
      "include_colab_link": true
    },
    "kernelspec": {
      "name": "python3",
      "display_name": "Python 3"
    }
  },
  "cells": [
    {
      "cell_type": "markdown",
      "metadata": {
        "id": "view-in-github",
        "colab_type": "text"
      },
      "source": [
        "<a href=\"https://colab.research.google.com/github/jorge23amury/edd_1358_2021/blob/master/22_enero1358.ipynb\" target=\"_parent\"><img src=\"https://colab.research.google.com/assets/colab-badge.svg\" alt=\"Open In Colab\"/></a>"
      ]
    },
    {
      "cell_type": "code",
      "metadata": {
        "id": "uCHzU_hjR58B"
      },
      "source": [
        "class NodoArbol:\r\n",
        "    def __init__(self, value, left = None, rigth = None):\r\n",
        "        self.data = value\r\n",
        "        self.left = left\r\n",
        "        self.rigth = rigth"
      ],
      "execution_count": 30,
      "outputs": []
    },
    {
      "cell_type": "code",
      "metadata": {
        "id": "FfVmfEm2Svqi"
      },
      "source": [
        "class ArbolBinarioBusqueda:\r\n",
        "    def __init__(self):\r\n",
        "        self.__root = None\r\n",
        "\r\n",
        "    def insert(self, value):\r\n",
        "        if self.__root == None:\r\n",
        "            self.__root = NodoArbol(value)\r\n",
        "\r\n",
        "        else:\r\n",
        "            self.__insert__( self.__root, value)\r\n",
        "\r\n",
        "    #__ = encapsulamiento\r\n",
        "    def __insert__( self, nodo, value):\r\n",
        "         #RECURSIVIDAD\r\n",
        "        if nodo.data == value:\r\n",
        "            print(\"El nodo ya existe, no se inserta el valor : \", value)\r\n",
        "\r\n",
        "        elif value < nodo.data:\r\n",
        "            #ir a la izq\r\n",
        "            if nodo.left == None:\r\n",
        "                nodo.left = NodoArbol(value, None, None)\r\n",
        "            else: \r\n",
        "                self.__insert__(nodo.left, value)\r\n",
        "        \r\n",
        "        else:\r\n",
        "            #ir a la derecha\r\n",
        "            if nodo.rigth == None:\r\n",
        "                nodo.rigth = NodoArbol(value, None, None)\r\n",
        "            else: \r\n",
        "                self.__insert__(nodo.rigth, value)\r\n",
        "\r\n",
        "    def transversal(self, format = \"inorden\"):\r\n",
        "        if format == 'inorden':\r\n",
        "            self.__recorrido_in(self.__root)\r\n",
        "\r\n",
        "        elif format == 'preorden' :\r\n",
        "            self.__recorrido_pre(self.__root)\r\n",
        "\r\n",
        "        elif format == 'posorden':\r\n",
        "            self.__recorrido_pos(self.__root)\r\n",
        "\r\n",
        "        else:\r\n",
        "            print(\"Formato de recorrido no valido\")\r\n",
        "    \r\n",
        "    def __recorrido_pre(self, nodo):\r\n",
        "        if nodo != None:\r\n",
        "            print(nodo.data, end=',')\r\n",
        "            self.__recorrido_pre(nodo.left)\r\n",
        "            self.__recorrido_pre(nodo.rigth)\r\n",
        "\r\n",
        "\r\n",
        "    def __recorrido_in(self, nodo):\r\n",
        "        if nodo != None:\r\n",
        "            self.__recorrido_in(nodo.left)\r\n",
        "            print(nodo.data, end=',') #raiz\r\n",
        "            self.__recorrido_in(nodo.rigth)\r\n",
        "\r\n",
        "    def __recorrido_pos(self, nodo):\r\n",
        "        if nodo != None:\r\n",
        "            self.__recorrido_pos(nodo.left)\r\n",
        "            self.__recorrido_pos(nodo.rigth)\r\n",
        "            print(nodo.data, end =',')\r\n",
        "\r\n",
        "\r\n",
        "    def search(self, value):\r\n",
        "        if self.__root == None:\r\n",
        "            print(\"'ARBOL VACIO'\")\r\n",
        "        else:\r\n",
        "            return self.__search(self.__root, value)\r\n",
        "\r\n",
        "    def __search(self, nodo, value):\r\n",
        "        if nodo == None:\r\n",
        "            return None\r\n",
        "        elif nodo.data == value:\r\n",
        "            return nodo.data\r\n",
        "        elif value < nodo.data:\r\n",
        "            return self.__search(nodo.left, value)\r\n",
        "        else:\r\n",
        "            return  self.__search(nodo.rigth, value)\r\n"
      ],
      "execution_count": 42,
      "outputs": []
    },
    {
      "cell_type": "code",
      "metadata": {
        "colab": {
          "base_uri": "https://localhost:8080/",
          "height": 296
        },
        "id": "If6RATVydK-v",
        "outputId": "b85e6c8c-17ad-403b-f357-8e64f1f4097c"
      },
      "source": [
        "abb = ArbolBinarioBusqueda()\r\n",
        "abb.insert(50)\r\n",
        "abb.insert(30)\r\n",
        "abb.insert(60)\r\n",
        "abb.insert(35)\r\n",
        "abb.insert(89)\r\n",
        "abb.insert(70)\r\n",
        "abb.insert(1)\r\n",
        "\r\n",
        "print(\"recorrido PREORDEN: \")\r\n",
        "abb.transversal(format = 'preorden')\r\n",
        "\r\n",
        "print(\"\\nrecorrido INORDEN: \")\r\n",
        "abb.transversal(format = 'inorden')\r\n",
        "\r\n",
        "print(\"\\nrecorrido POSORDEN: \")\r\n",
        "abb.transversal(format = 'posorden')\r\n",
        "\r\n",
        "res = abb.search(30)\r\n",
        "print(f\"El nodo es: {res}, hijo izq {res.left.data}, hijo derecho{res.rigth.data}\")\r\n"
      ],
      "execution_count": 51,
      "outputs": [
        {
          "output_type": "stream",
          "text": [
            "recorrido PREORDEN: \n",
            "50,30,1,35,60,89,70,\n",
            "recorrido INORDEN: \n",
            "1,30,35,50,60,70,89,\n",
            "recorrido POSORDEN: \n",
            "1,35,30,70,89,60,50,"
          ],
          "name": "stdout"
        },
        {
          "output_type": "error",
          "ename": "AttributeError",
          "evalue": "ignored",
          "traceback": [
            "\u001b[0;31m---------------------------------------------------------------------------\u001b[0m",
            "\u001b[0;31mAttributeError\u001b[0m                            Traceback (most recent call last)",
            "\u001b[0;32m<ipython-input-51-1da4b863281b>\u001b[0m in \u001b[0;36m<module>\u001b[0;34m()\u001b[0m\n\u001b[1;32m     18\u001b[0m \u001b[0;34m\u001b[0m\u001b[0m\n\u001b[1;32m     19\u001b[0m \u001b[0mres\u001b[0m \u001b[0;34m=\u001b[0m \u001b[0mabb\u001b[0m\u001b[0;34m.\u001b[0m\u001b[0msearch\u001b[0m\u001b[0;34m(\u001b[0m\u001b[0;36m30\u001b[0m\u001b[0;34m)\u001b[0m\u001b[0;34m\u001b[0m\u001b[0;34m\u001b[0m\u001b[0m\n\u001b[0;32m---> 20\u001b[0;31m \u001b[0mprint\u001b[0m\u001b[0;34m(\u001b[0m\u001b[0;34mf\"El nodo es: {res}, hijo izq {res.left.data}, hijo derecho{res.rigth.data}\"\u001b[0m\u001b[0;34m)\u001b[0m\u001b[0;34m\u001b[0m\u001b[0;34m\u001b[0m\u001b[0m\n\u001b[0m",
            "\u001b[0;31mAttributeError\u001b[0m: 'int' object has no attribute 'left'"
          ]
        }
      ]
    },
    {
      "cell_type": "code",
      "metadata": {
        "id": "gdIzE8xUD9fE"
      },
      "source": [
        ""
      ],
      "execution_count": null,
      "outputs": []
    }
  ]
}