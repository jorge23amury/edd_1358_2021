{
  "nbformat": 4,
  "nbformat_minor": 0,
  "metadata": {
    "colab": {
      "name": "09noviembre.ipynb",
      "provenance": [],
      "collapsed_sections": [],
      "authorship_tag": "ABX9TyNVeIm+SIXatgm/hNdgkWgV",
      "include_colab_link": true
    },
    "kernelspec": {
      "name": "python3",
      "display_name": "Python 3"
    }
  },
  "cells": [
    {
      "cell_type": "markdown",
      "metadata": {
        "id": "view-in-github",
        "colab_type": "text"
      },
      "source": [
        "<a href=\"https://colab.research.google.com/github/jorge23amury/edd_1358_2021/blob/master/09noviembre.ipynb\" target=\"_parent\"><img src=\"https://colab.research.google.com/assets/colab-badge.svg\" alt=\"Open In Colab\"/></a>"
      ]
    },
    {
      "cell_type": "code",
      "metadata": {
        "id": "6hoQCR631BP2",
        "outputId": "205dc8c2-a152-4509-ad42-e23c1ce50d45",
        "colab": {
          "base_uri": "https://localhost:8080/"
        }
      },
      "source": [
        "class Nodo:\n",
        "    def __init__(self , dato):\n",
        "        self.__dato = dato\n",
        "        self.__siguiente = None\n",
        "    \n",
        "    def get_dato(self):\n",
        "        return self.__dato\n",
        "\n",
        "    def set_dato(self, dato):\n",
        "        self.__dato = d\n",
        "    \n",
        "    def get_siguiente(self):\n",
        "        return self.__siguiente\n",
        "\n",
        "    def set_siguiente(self, d):\n",
        "         self.__siguiente = d\n",
        "\n",
        "    def to_String(self):\n",
        "        return \" | \" +str(self.__dato) + \" | \" +str(self.__siguiente) + \" | -->\"\n",
        "    \n",
        "#ejemplo1\n",
        "a = Nodo(10)\n",
        "print(a.to_String())\n",
        "\n",
        "#ejemplo2\n",
        "a.set_siguiente(20)\n",
        "print(a.to_String())\n",
        "#a.get_siguiente(Nodo(30))\n",
        "\n",
        "#ejemplo3\n",
        "\n",
        "\n",
        "# Ejemplo 1\n",
        "a = Nodo( 10 )\n",
        "a.show()\n",
        "\n",
        "\n",
        "# ejemplo 2\n",
        "\n",
        "a.set_siguiente( Nodo(20) )\n",
        "a.show()\n",
        " def show( self ):\n",
        "        curr_node = self # Head\n",
        "        print(\" Inicio de la estructura ligada:\")\n",
        "        print(\"|\" + str(curr_node.get_dato()) + \"| -->\" , end =\"\" )\n",
        "        while( curr_node.get_siguiente() != None ):\n",
        "            curr_node = curr_node.get_siguiente()\n",
        "            print(\"|\" + str(curr_node.get_dato() ) + \"| -->\" , end =\"\" )\n",
        "        print(\"\\nFin\")\n",
        "\n"
      ],
      "execution_count": null,
      "outputs": [
        {
          "output_type": "stream",
          "text": [
            " | 10 | None | -->\n",
            " | 10 | 20 | -->\n"
          ],
          "name": "stdout"
        }
      ]
    }
  ]
}