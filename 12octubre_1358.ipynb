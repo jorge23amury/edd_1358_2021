{
  "nbformat": 4,
  "nbformat_minor": 0,
  "metadata": {
    "colab": {
      "name": "12octubre_1358.ipynb",
      "provenance": [],
      "collapsed_sections": [],
      "authorship_tag": "ABX9TyMaUKNvktSr3WtVgDfs1/dO",
      "include_colab_link": true
    },
    "kernelspec": {
      "name": "python3",
      "display_name": "Python 3"
    }
  },
  "cells": [
    {
      "cell_type": "markdown",
      "metadata": {
        "id": "view-in-github",
        "colab_type": "text"
      },
      "source": [
        "<a href=\"https://colab.research.google.com/github/jorge23amury/edd_1358_2021/blob/master/12octubre_1358.ipynb\" target=\"_parent\"><img src=\"https://colab.research.google.com/assets/colab-badge.svg\" alt=\"Open In Colab\"/></a>"
      ]
    },
    {
      "cell_type": "code",
      "metadata": {
        "id": "dPhtGo1qWUZZ"
      },
      "source": [
        "# diccionarios (continuación)\n",
        "\n",
        "cliente_banco = { \n",
        "    \"id\": 1,\n",
        "    \"nombres\" : [\"Juan\", \"Antonio\"],\n",
        "    \"paterno\": \"Garcia\",\n",
        "    \"materno\": \"Perez\",\n",
        "    \"telefonos\": {\n",
        "        \"casa\": 5556949599,\n",
        "        \"celular\": 5583186778,\n",
        "        \"trabajo\": 5566223311,\n",
        "        },\n",
        "    \"activo\": True,\n",
        "    \"balance\": 234567.89,\n",
        "    \"tarjeta\": ({\"tipo\":\"debito\",\"saldo\": 12000},\n",
        "                {\"tipo\": \"credito\", \"saldo\":3500.0})\n",
        "\n",
        "\n",
        "}\n",
        "\n",
        "print(cliente_banco)\n",
        "cliente_banco[\"balance\"] = cliente_banco[\"balance\"] -1000.89\n",
        "print(cliente_banco)\n",
        "\n",
        "cliente_banco[\"tarjetas\"] =({\"tipo\":\"debito\",\"saldo\": 12000},\n",
        "                {\"tipo\": \"credito\", \"saldo\":3500.0},\n",
        "                {\"tipo\": \"credito\", \"nivel\": \"ORO\", \"saldo\":50000})\n",
        "\n",
        "\n",
        "print(cliente_banco)\n",
        "\n",
        "cliente_banco[\"direccion\"]={\"calle\":\"rancho seco\", \"num\": 23}\n",
        "print(cliente_banco)\n",
        "\n",
        "cliente_banco.pop[\"tarjetas\"]\n",
        "print(cliente_banco)\n"
      ],
      "execution_count": null,
      "outputs": []
    },
    {
      "cell_type": "code",
      "metadata": {
        "id": "h0XWdsEZdfuS"
      },
      "source": [
        "llaves = cliente_banco.keys()\n",
        "print(llaves)\n",
        "print(type(llaves))\n",
        "for x in llaves:\n",
        "    print(x)\n",
        "\n",
        "valores = cliente_banco.values()\n",
        "for v in valores:\n",
        "    print(v)\n",
        "\n",
        "pares = cliente_banco.items()\n",
        "print(pares)\n",
        "\n",
        "for elem in pares:\n",
        "    print(f\"{elem[0]} = {elem[1]}\")"
      ],
      "execution_count": null,
      "outputs": []
    },
    {
      "cell_type": "code",
      "metadata": {
        "id": "bWNz3XNIg7-r"
      },
      "source": [
        "fruta = {\"nombre\": \"manzana\", \"color\": \"rojo\", \"estado\":\"chihuahua\" }\n",
        "\n",
        "otras_caracteristicas= {\"vitamina\":\"D\" }\n",
        "\n",
        "fruta.update(otras_caracteristicas)\n",
        "print(fruta)"
      ],
      "execution_count": null,
      "outputs": []
    },
    {
      "cell_type": "markdown",
      "metadata": {
        "id": "8PI534yTiaDP"
      },
      "source": [
        "#Funciones\n",
        "1. recibe de 0 a n argumentos de entrada\n",
        "1. regresa solo un valor, aunque ese valor sea None.\n",
        "1. tiene un nombre unico en el contexto\n",
        "1. se pueden hacer solo dos cosas con funciones: \n",
        "- definirla\n",
        "- llamarla"
      ]
    },
    {
      "cell_type": "code",
      "metadata": {
        "id": "rrat27Ghi9gf",
        "outputId": "436f5ef7-17c2-4b26-8602-4c58880725fd",
        "colab": {
          "base_uri": "https://localhost:8080/",
          "height": 50
        }
      },
      "source": [
        "def suma(a,b):\n",
        "    return a+b\n",
        "\n",
        "def saludar():\n",
        "    print(\"Hola, ¿como estas?\")\n",
        "    return None\n",
        "    \n",
        "x = 10\n",
        "y = 20\n",
        "c = suma(x,y)\n",
        "\n",
        "print(c)\n",
        "saludar()\n"
      ],
      "execution_count": 18,
      "outputs": [
        {
          "output_type": "stream",
          "text": [
            "30\n",
            "Hola, ¿como estas?\n"
          ],
          "name": "stdout"
        }
      ]
    },
    {
      "cell_type": "markdown",
      "metadata": {
        "id": "3Xu7o9RTkzLM"
      },
      "source": [
        "# None y las funciones\n",
        "\n",
        "Aprovechar el uso de none en paso de parametros."
      ]
    },
    {
      "cell_type": "code",
      "metadata": {
        "id": "5NCAKpq0k5Yf"
      },
      "source": [
        "def calcular (base, veces):\n",
        "    if base != None:\n",
        "        resultado = base * veces\n",
        "    else:\n",
        "        resultado = \"desconocido\"\n",
        "\n",
        "\n",
        "    return resultado\n",
        "\n",
        "print(calcular(4, 3))\n",
        "print(calcular(None, 3))\n",
        "\n"
      ],
      "execution_count": null,
      "outputs": []
    }
  ]
}