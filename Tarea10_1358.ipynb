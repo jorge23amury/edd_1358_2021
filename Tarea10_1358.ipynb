{
  "nbformat": 4,
  "nbformat_minor": 0,
  "metadata": {
    "colab": {
      "name": "Tarea10_1358.ipynb",
      "provenance": [],
      "authorship_tag": "ABX9TyP7vYOe3SRs2RIdK80Ds2tj",
      "include_colab_link": true
    },
    "kernelspec": {
      "name": "python3",
      "display_name": "Python 3"
    }
  },
  "cells": [
    {
      "cell_type": "markdown",
      "metadata": {
        "id": "view-in-github",
        "colab_type": "text"
      },
      "source": [
        "<a href=\"https://colab.research.google.com/github/jorge23amury/edd_1358_2021/blob/master/Tarea10_1358.ipynb\" target=\"_parent\"><img src=\"https://colab.research.google.com/assets/colab-badge.svg\" alt=\"Open In Colab\"/></a>"
      ]
    },
    {
      "cell_type": "code",
      "metadata": {
        "colab": {
          "base_uri": "https://localhost:8080/"
        },
        "id": "ttCoTIIBfn8U",
        "outputId": "e868508f-5b90-464b-e4d2-73c1eaa236cb"
      },
      "source": [
        "print(\"Tarea 10\")"
      ],
      "execution_count": 1,
      "outputs": [
        {
          "output_type": "stream",
          "text": [
            "Tarea 10\n"
          ],
          "name": "stdout"
        }
      ]
    }
  ]
}