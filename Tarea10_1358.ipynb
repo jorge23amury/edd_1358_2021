{
  "nbformat": 4,
  "nbformat_minor": 0,
  "metadata": {
    "colab": {
      "name": "Tarea10_1358.ipynb",
      "provenance": [],
      "authorship_tag": "ABX9TyMsnI2ADPs5m13WJyNhAXwe",
      "include_colab_link": true
    },
    "kernelspec": {
      "name": "python3",
      "display_name": "Python 3"
    }
  },
  "cells": [
    {
      "cell_type": "markdown",
      "metadata": {
        "id": "view-in-github",
        "colab_type": "text"
      },
      "source": [
        "<a href=\"https://colab.research.google.com/github/jorge23amury/edd_1358_2021/blob/master/Tarea10_1358.ipynb\" target=\"_parent\"><img src=\"https://colab.research.google.com/assets/colab-badge.svg\" alt=\"Open In Colab\"/></a>"
      ]
    },
    {
      "cell_type": "code",
      "metadata": {
        "id": "ttCoTIIBfn8U",
        "colab": {
          "base_uri": "https://localhost:8080/"
        },
        "outputId": "9514e979-9cb3-4215-cdfd-626820376156"
      },
      "source": [
        "#SUMA\r\n",
        "\r\n",
        "def suma(x):\r\n",
        "    if len(x) == 0:\r\n",
        "        return 0\r\n",
        "    else:\r\n",
        "        n = x.pop()\r\n",
        "        n1 = suma(x)\r\n",
        "        n += n1\r\n",
        "        return n \r\n",
        "\r\n",
        "\r\n",
        "lista_suma = [1, 2, 3, 4, 5]\r\n",
        "print(lista_suma)\r\n",
        "print(f\"El resultado de la suma es:\",suma(lista_suma))"
      ],
      "execution_count": 1,
      "outputs": [
        {
          "output_type": "stream",
          "text": [
            "[1, 2, 3, 4, 5]\n",
            "El resultado de la suma es: 15\n"
          ],
          "name": "stdout"
        }
      ]
    },
    {
      "cell_type": "code",
      "metadata": {
        "colab": {
          "base_uri": "https://localhost:8080/"
        },
        "id": "E8tE8ZgcbnPj",
        "outputId": "ee5b23f2-5b07-4009-b9be-8e9817a1d5a3"
      },
      "source": [
        "\r\n",
        "print(\"Iniciando conteo regresivo\")\r\n",
        "def conteo_regresivo(x):\r\n",
        "    if x > 0:\r\n",
        "        print(x)\r\n",
        "        conteo_regresivo(x - 1)\r\n",
        "    elif x == 0:\r\n",
        "        print(\"La bomba ha explotado\")\r\n",
        "\r\n",
        "\r\n",
        "conteo_regresivo(10)"
      ],
      "execution_count": 4,
      "outputs": [
        {
          "output_type": "stream",
          "text": [
            "Iniciando conteo regresivo\n",
            "10\n",
            "9\n",
            "8\n",
            "7\n",
            "6\n",
            "5\n",
            "4\n",
            "3\n",
            "2\n",
            "1\n",
            "La bomba ha explotado\n"
          ],
          "name": "stdout"
        }
      ]
    },
    {
      "cell_type": "code",
      "metadata": {
        "id": "4_vsQrpvcD5p"
      },
      "source": [
        "class Pila:\r\n",
        "     def __init__(self):\r\n",
        "         self.items = []\r\n",
        "\r\n",
        "     def estaVacia(self):\r\n",
        "         return self.items == []\r\n",
        "\r\n",
        "     def push(self, item):\r\n",
        "         self.items.append(item)\r\n",
        "\r\n",
        "     def pop(self):\r\n",
        "         return self.items.pop()\r\n",
        "\r\n",
        "     def inspeccionar(self):\r\n",
        "         return self.items[len(self.items)-1]\r\n",
        "\r\n",
        "     def lenght(self):\r\n",
        "         return len(self.items)\r\n",
        "\r\n",
        "     def to_String(self):\r\n",
        "         print(\"-----\")\r\n",
        "         for dato in self.items[::-1] :\r\n",
        "             print(f\" | { dato } |\")\r\n",
        "             print(\"-----\")"
      ],
      "execution_count": 6,
      "outputs": []
    },
    {
      "cell_type": "code",
      "metadata": {
        "colab": {
          "base_uri": "https://localhost:8080/"
        },
        "id": "Di-4JBJeb-8A",
        "outputId": "7a1a7ed0-ec3f-4dd4-e0ab-6188c8aaeab7"
      },
      "source": [
        "def posicion_media(p,t):\r\n",
        "    if t//2 == p.lenght()-1:\r\n",
        "        print(f\"El valor medio es:\", p.pop())\r\n",
        "    else:\r\n",
        "        n = p.pop()\r\n",
        "        posicion_media(p, t)\r\n",
        "        p.push(n)\r\n",
        "\r\n",
        "p = Pila()\r\n",
        "p.push(1)\r\n",
        "p.push(2)\r\n",
        "p.push(3)  #<--- valor medio \r\n",
        "p.push(4)\r\n",
        "p.push(5)\r\n",
        "\r\n",
        "p.to_String()\r\n",
        "print(\"----\")\r\n",
        "posicion_media(p,p.lenght())\r\n",
        "print(\"----\")\r\n",
        "p.to_String()\r\n",
        "\r\n"
      ],
      "execution_count": 7,
      "outputs": [
        {
          "output_type": "stream",
          "text": [
            "-----\n",
            " | 5 |\n",
            "-----\n",
            " | 4 |\n",
            "-----\n",
            " | 3 |\n",
            "-----\n",
            " | 2 |\n",
            "-----\n",
            " | 1 |\n",
            "-----\n",
            "----\n",
            "El valor medio es: 3\n",
            "----\n",
            "-----\n",
            " | 5 |\n",
            "-----\n",
            " | 4 |\n",
            "-----\n",
            " | 2 |\n",
            "-----\n",
            " | 1 |\n",
            "-----\n"
          ],
          "name": "stdout"
        }
      ]
    }
  ]
}