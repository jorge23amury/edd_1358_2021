{
  "nbformat": 4,
  "nbformat_minor": 0,
  "metadata": {
    "colab": {
      "name": "tarea_balance.ipynb",
      "provenance": [],
      "collapsed_sections": [],
      "authorship_tag": "ABX9TyPi+VO9hW+gASVdHMKESIXf",
      "include_colab_link": true
    },
    "kernelspec": {
      "name": "python3",
      "display_name": "Python 3"
    }
  },
  "cells": [
    {
      "cell_type": "markdown",
      "metadata": {
        "id": "view-in-github",
        "colab_type": "text"
      },
      "source": [
        "<a href=\"https://colab.research.google.com/github/jorge23amury/edd_1358_2021/blob/master/tarea_balance.ipynb\" target=\"_parent\"><img src=\"https://colab.research.google.com/assets/colab-badge.svg\" alt=\"Open In Colab\"/></a>"
      ]
    },
    {
      "cell_type": "code",
      "metadata": {
        "id": "lbgnseKe-ega"
      },
      "source": [
        "\n",
        "class Stack:\n",
        "    def __init__(self):\n",
        "        self.__data = []\n",
        "        self.__size = 0\n",
        "\n",
        "    def pop(self):\n",
        "        return self.__data.pop()\n",
        "\n",
        "    def peek( self ):\n",
        "        return self.__data[-1]\n",
        "\n",
        "    def push(self, value):\n",
        "        self.__data.append(value)\n",
        "\n",
        "    def to_String(self):\n",
        "        print(\"-----\")\n",
        "        for dato in self.__data[::-1] :\n",
        "            print(f\" | { dato } |\")\n",
        "            print(\"-----\")\n",
        "\n",
        "    def is_empty(self):\n",
        "        return self.__size == 0\n",
        "\n",
        "    def get_size( self ):\n",
        "        return self.__size"
      ],
      "execution_count": 1,
      "outputs": []
    },
    {
      "cell_type": "code",
      "metadata": {
        "colab": {
          "base_uri": "https://localhost:8080/"
        },
        "id": "Cgn1j-B9ADSm",
        "outputId": "99993b1a-da9a-4a14-f256-19242d4fa74a"
      },
      "source": [
        "pl = Stack()\n",
        "pl.push(34)\n",
        "pl.push(10)\n",
        "pl.push(45)\n",
        "pl.push(4)\n",
        "pl.push(23)\n",
        "pl.push(33)\n",
        "valor = pl.pop()\n",
        "print(valor * 2)\n",
        "pl.to_String()\n",
        "valor = pl.peek()\n",
        "print(valor * 2)\n",
        "pl.to_String()"
      ],
      "execution_count": 2,
      "outputs": [
        {
          "output_type": "stream",
          "text": [
            "66\n",
            "-----\n",
            " | 23 |\n",
            "-----\n",
            " | 4 |\n",
            "-----\n",
            " | 45 |\n",
            "-----\n",
            " | 10 |\n",
            "-----\n",
            " | 34 |\n",
            "-----\n",
            "46\n",
            "-----\n",
            " | 23 |\n",
            "-----\n",
            " | 4 |\n",
            "-----\n",
            " | 45 |\n",
            "-----\n",
            " | 10 |\n",
            "-----\n",
            " | 34 |\n",
            "-----\n"
          ],
          "name": "stdout"
        }
      ]
    },
    {
      "cell_type": "code",
      "metadata": {
        "colab": {
          "base_uri": "https://localhost:8080/"
        },
        "id": "7f4e3aO9B3g1",
        "outputId": "e060a5d1-7800-4691-cdff-a57a15834152"
      },
      "source": [
        "#aplicaciones de la estructura Stack\n",
        "#1.-Validación de parentesis balanceados '(' , ' {' y '['\n",
        "cadena = \"b= 3 * (5 + (4/2))\"\n",
        "indicem=0\n",
        "\n",
        "pila = Stack()\n",
        "pila.push(\"#\")   #caracter de pila vacia\n",
        "\n",
        "for elem in cadena:\n",
        "    if elem =='(' :\n",
        "        indicem+=1\n",
        "        pila.push('(')\n",
        "        indice =0\n",
        "\n",
        "        \n",
        "    elif elem == ')' :\n",
        "        indice +=1 \n",
        "        pila.pop()\n",
        "\n",
        "\n",
        "\n",
        "    \n",
        "    else:\n",
        "        pass\n",
        "\n",
        "\n",
        "\n",
        "if indice == indicem:\n",
        "    print(\"La expresion esta balanceada\")\n",
        "\n",
        "else: \n",
        "    print(\"La expresion no esta en balance\")\n"
      ],
      "execution_count": 171,
      "outputs": [
        {
          "output_type": "stream",
          "text": [
            "La expresion esta balanceada\n"
          ],
          "name": "stdout"
        }
      ]
    },
    {
      "cell_type": "code",
      "metadata": {
        "id": "UvaOWYd1fFfu"
      },
      "source": [
        ""
      ],
      "execution_count": null,
      "outputs": []
    }
  ]
}