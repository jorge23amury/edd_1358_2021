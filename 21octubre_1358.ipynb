{
  "nbformat": 4,
  "nbformat_minor": 0,
  "metadata": {
    "colab": {
      "name": "21octubre_1358.ipynb",
      "provenance": [],
      "authorship_tag": "ABX9TyPQ61Y3T16V6UsrjmEDuHGN",
      "include_colab_link": true
    },
    "kernelspec": {
      "name": "python3",
      "display_name": "Python 3"
    }
  },
  "cells": [
    {
      "cell_type": "markdown",
      "metadata": {
        "id": "view-in-github",
        "colab_type": "text"
      },
      "source": [
        "<a href=\"https://colab.research.google.com/github/jorge23amury/edd_1358_2021/blob/master/21octubre_1358.ipynb\" target=\"_parent\"><img src=\"https://colab.research.google.com/assets/colab-badge.svg\" alt=\"Open In Colab\"/></a>"
      ]
    },
    {
      "cell_type": "code",
      "metadata": {
        "id": "Tl2TMPRBtevu",
        "outputId": "4bc969c8-4ef2-4603-aa17-73fd18aeda90",
        "colab": {
          "base_uri": "https://localhost:8080/",
          "height": 84
        }
      },
      "source": [
        "#Encapsulamiento\n",
        "class SmartPhone:\n",
        "    def __init__( self , m  ):\n",
        "        self.__marca = m\n",
        "\n",
        "    def set_marca (self , m):\n",
        "        self.__marca = m\n",
        "\n",
        "    def get_marca( self ):\n",
        "        return self.__marca\n",
        "\n",
        "    def to_string( self ):\n",
        "        return \"La marca del telefono es: \" + self.__marca\n",
        "\n",
        "spl = SmartPhone(\"Huawei\")\n",
        "print(spl.to_string())\n",
        "\n",
        "spl.__ = marca = \"!Phone X\"\n",
        "print(spl.to_string())\n",
        "\n",
        "spl = SmartPhone(\"Samsung\")\n",
        "print(spl.to_string())\n",
        "print(spl.get_marca())\n",
        "\n"
      ],
      "execution_count": 15,
      "outputs": [
        {
          "output_type": "stream",
          "text": [
            "La marca del telefono es: Huawei\n",
            "La marca del telefono es: Huawei\n",
            "La marca del telefono es: Samsung\n",
            "Samsung\n"
          ],
          "name": "stdout"
        }
      ]
    },
    {
      "cell_type": "code",
      "metadata": {
        "id": "qSOFo_L6xdTh",
        "outputId": "43a36021-f2c9-4581-9424-9d82ae67aa2f",
        "colab": {
          "base_uri": "https://localhost:8080/",
          "height": 185
        }
      },
      "source": [
        "# estili Python 3\n",
        "class SmartPhone:\n",
        "    def __init__( self, m):\n",
        "        self.marca = m    #llamando al metodo get\n",
        "\n",
        "    @property\n",
        "    def marca( self ):     #se declara el metodo get y declara self.__marca\n",
        "        print(\"En el metodo get de marca\")\n",
        "        return self.__marca\n",
        "\n",
        "    @marca.setter\n",
        "    def marca (self, m):\n",
        "        self.__marca = m \n",
        "    \n",
        "    def to_string( self ):\n",
        "        return \"Marca: \" + self.marca\n",
        "\n",
        "sp2 = SmartPhone(\"Xiaomi\")\n",
        "print(sp2.to_string())\n",
        "sp2.__msrcs = \"!Phone SE\"\n",
        "print(sp2.to_string())\n",
        "sp2.marca = \"motorola\"  #invicacion al metodo set\n",
        "print(sp2.to_string())\n",
        "\n",
        "print(sp2.marca)     #invocacion al metodo get \n",
        "\n",
        "sp2.marca = \"45454e5d\"\n",
        "print(sp2.to_string())"
      ],
      "execution_count": 43,
      "outputs": [
        {
          "output_type": "stream",
          "text": [
            "En el metodo get de marca\n",
            "Marca: Xiaomi\n",
            "En el metodo get de marca\n",
            "Marca: Xiaomi\n",
            "En el metodo get de marca\n",
            "Marca: motorola\n",
            "En el metodo get de marca\n",
            "motorola\n",
            "En el metodo get de marca\n",
            "Marca: 45454e5d\n"
          ],
          "name": "stdout"
        }
      ]
    },
    {
      "cell_type": "code",
      "metadata": {
        "id": "4PJugsGwt3xt"
      },
      "source": [
        "class TelefonoTrabajo(SmartPhone):\n",
        "    def __init__(self , m):\n",
        "        self.marca = m\n",
        "\n",
        "\n",
        "sp3 = TelefonoTrabajo(\"Motorola\")\n",
        "print(dir(sp3))\n",
        "print(sp3.to_string())"
      ],
      "execution_count": null,
      "outputs": []
    }
  ]
}