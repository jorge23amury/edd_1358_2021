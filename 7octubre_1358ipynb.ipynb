{
  "nbformat": 4,
  "nbformat_minor": 0,
  "metadata": {
    "colab": {
      "name": "7octubre_1358ipynb",
      "provenance": [],
      "collapsed_sections": [],
      "authorship_tag": "ABX9TyO58AMQ1pju2xu/HUWCxZWO",
      "include_colab_link": true
    },
    "kernelspec": {
      "name": "python3",
      "display_name": "Python 3"
    }
  },
  "cells": [
    {
      "cell_type": "markdown",
      "metadata": {
        "id": "view-in-github",
        "colab_type": "text"
      },
      "source": [
        "<a href=\"https://colab.research.google.com/github/jorge23amury/edd_1358_2021/blob/master/7octubre_1358ipynb.ipynb\" target=\"_parent\"><img src=\"https://colab.research.google.com/assets/colab-badge.svg\" alt=\"Open In Colab\"/></a>"
      ]
    },
    {
      "cell_type": "code",
      "metadata": {
        "id": "IHJ31Ew3nHuG",
        "outputId": "fd084ff8-caef-491e-f5c9-2e39322f30a4",
        "colab": {
          "base_uri": "https://localhost:8080/"
        }
      },
      "source": [
        "# Listas multidimension\n",
        "\n",
        "\n",
        "autos = [\"Mazda\",\"honda\",\"Akura\",\"Ford\",\"VW\"]\n",
        "telefonos = [\"iPhone\",\"Huawei Mate 30\", \"Xiaomi S10\",\"Alcatel t1000\"]\n",
        "sistemas_operativos = [ \"Windows\", \"Linux\" , \"Android\" , \"iOS\" ,\"MacOs\" ]\n",
        "procesadores = [[\"Intel\", 3.1, True], [\"AMD\", 2.7, False], [\"MOtorola\", 1.1, False]]\n",
        "\n",
        "\n",
        "\n",
        "\n",
        "lista_nd = [autos,telefonos,sistemas_operativos, procesadores] \n",
        "print(lista_nd)\n",
        "# print(lista_nd[1][1])\n",
        "print(lista_nd[2][3])  \n",
        "print(lista_nd[1][1][3:6])\n",
        "print(lista_nd[3][1][1])\n",
        "print(lista_nd[3][2][0][2:6])\n",
        "print(lista_nd[3][0][0][-2:-5:-1])\n",
        "\n",
        "\n",
        "#Concatenar listas\n",
        "colores = [\"rojo\", \"verde\", \"azul\", \"negro\"]\n",
        "flores = [\"margarita\", \"rosa\"]\n",
        "\n",
        "nueva = colores + flores\n",
        "print(nueva)\n",
        "print(flores)\n",
        "print(colores)\n",
        "\n",
        "#con extend\n",
        "colores.extend(flores)\n",
        "print(colores)\n",
        "\n",
        "# unpacking de listas\n",
        "print(\"unpacking\")\n",
        "datos_ppersonales =[\"Jose\", \"Perez\", \"Juarez\", 22, 1.67, True]\n",
        "nombre = datos_ppersonales[0]\n",
        "print(nombre)\n",
        "nobre, paterno, materno, edad, est, fuma = datos_ppersonales\n",
        "print(f\"Nombre:{nombre}\\nEdad:{edad}\")\n",
        "\n"
      ],
      "execution_count": 29,
      "outputs": [
        {
          "output_type": "stream",
          "text": [
            "[['Mazda', 'honda', 'Akura', 'Ford', 'VW'], ['iPhone', 'Huawei Mate 30', 'Xiaomi S10', 'Alcatel t1000'], ['Windows', 'Linux', 'Android', 'iOS', 'MacOs'], [['Intel', 3.1, True], ['AMD', 2.7, False], ['MOtorola', 1.1, False]]]\n",
            "iOS\n",
            "wei\n",
            "2.7\n",
            "toro\n",
            "etn\n",
            "['rojo', 'verde', 'azul', 'negro', 'margarita', 'rosa']\n",
            "['margarita', 'rosa']\n",
            "['rojo', 'verde', 'azul', 'negro']\n",
            "['rojo', 'verde', 'azul', 'negro', 'margarita', 'rosa']\n",
            "unpacking\n",
            "Jose\n",
            "Nombre:Jose\n",
            "Edad:22\n"
          ],
          "name": "stdout"
        }
      ]
    },
    {
      "cell_type": "code",
      "metadata": {
        "id": "nbC0ggEGuMBN",
        "outputId": "e9e7e2de-4243-4586-dece-befe501d5c80",
        "colab": {
          "base_uri": "https://localhost:8080/"
        }
      },
      "source": [
        "# Tuplas\n",
        "\n",
        "bd= ('127.0.0.1', 'root', 'toor','1345')\n",
        "print(f\"usuario de la bd es {bd[1]} \")\n",
        "# no se puede modificar la Tupla --->   bd[1] = 'user1'\n",
        "\n",
        "print(bd[1: 3])\n"
      ],
      "execution_count": 42,
      "outputs": [
        {
          "output_type": "stream",
          "text": [
            "usuario de la bd es root \n",
            "('root', 'toor')\n"
          ],
          "name": "stdout"
        }
      ]
    },
    {
      "cell_type": "code",
      "metadata": {
        "id": "QBKEDeuLwSQA"
      },
      "source": [
        "# Diccionarios\n",
        "alumno = {\"nombre\": \"Juan\", 'edad': 22, 'carrera':'ICO'}\n",
        "print(alumno)\n",
        "print(alumno['edad'])\n",
        "\n",
        "alumno = {\n",
        "    \"nombre\": \"Juan\",\n",
        "     'edad': 22, \n",
        "     'carrera':'ICO',\n",
        "     'direccion':{'calle': 'Bosques de Africa',\n",
        "                  'numero': 33,\n",
        "                  'delegacion': 'Nezahualcoyotl',\n",
        "                  'estado': 15,\n",
        "                  'nombre_estado': 'Estado de Mexico'\n",
        "                  }\n",
        "          }\n",
        "print(alumno['direccion'])\n",
        "print(alumno['direccion']['delegacion'])\n",
        "print(alumno['direccion']['delegacion'][3:7])\n",
        "print(alumno['direccion']['delegacion'][3:7].upper())\n",
        "alumno['edad'] = 35\n",
        "print('\\n',alumno)\n",
        "\n",
        "alumno['promedio'] = 9.9\n",
        "print('\\n', alumno)\n",
        "alumno['direccion']['cp']= 9208\n",
        "print('\\n', alumno)\n",
        "alumno['materia']={'nombre':'CyP', 'calificaciones': 10}\n",
        "print('\\n', alumno)\n",
        "\n",
        "\n",
        "cliente = {'id': 1, 'nombre': 'Carlos Slim'}\n",
        "print(cliente)\n",
        "\n"
      ],
      "execution_count": null,
      "outputs": []
    }
  ]
}